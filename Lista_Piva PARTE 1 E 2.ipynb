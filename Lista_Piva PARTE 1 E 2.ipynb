{
  "cells": [
    {
      "cell_type": "code",
      "execution_count": null,
      "id": "b2da54b9-cdb3-42d9-97c3-f0990273245f",
      "metadata": {
        "id": "b2da54b9-cdb3-42d9-97c3-f0990273245f"
      },
      "outputs": [],
      "source": [
        "#0. Faça um algoritmo para ler um número e mostrar se ele é par ou impar, positivo ou negativo.\n",
        "\n",
        "num = int(input(\"Digite um número inteiro qualquer:\"))\n",
        "if (num >= 0):\n",
        "    if (num % 2) == 0:\n",
        "        print(num, \"é par positivo\")\n",
        "    else:\n",
        "        print(num, \"é impar positivo\")\n",
        "else:\n",
        "    if (abs(num) %2) == 0:\n",
        "        print(num, \"é par negativo\")\n",
        "    else:\n",
        "        print(num, \"é impar negativo\")"
      ]
    },
    {
      "cell_type": "code",
      "execution_count": null,
      "id": "4b88b7a9-d1b3-4a43-87f9-33bc59af86f7",
      "metadata": {
        "id": "4b88b7a9-d1b3-4a43-87f9-33bc59af86f7"
      },
      "outputs": [],
      "source": [
        "#\n",
        "num = int(input(\"Digite um número inteiro:\"))\n",
        "if (num >= 0):\n",
        "    if (num % 2) == 0:\n",
        "        print(f\"{num} é um número par\")\n",
        "    else:\n",
        "        print(f\"{num} é um número impar\")\n",
        "else:\n",
        "    if (num < 0):\n",
        "        print(f\"{num} é um numero negativo\")\n",
        "    else:\n",
        "        print(f\"{num} é um número positivo\")\n"
      ]
    },
    {
      "cell_type": "code",
      "execution_count": null,
      "id": "c9178211-70f8-461d-9300-121949b60cc7",
      "metadata": {
        "id": "c9178211-70f8-461d-9300-121949b60cc7"
      },
      "outputs": [],
      "source": [
        "#1.\n",
        "num1 = int(input(\"Digite um número:\"))\n",
        "num2 = int(input(\"Digite um número:\"))\n",
        "if num1 > num2:\n",
        "  print(f\"{num1} é maior que {num2}\")\n",
        "else:\n",
        "  print(f\"{num2} é maior que {num1}\")"
      ]
    },
    {
      "cell_type": "code",
      "source": [
        "#2.\n",
        "num = int(input(\"Digite um número:\"))\n",
        "if num >= 0:\n",
        "  print(f\"{num} é positivo\")\n",
        "else:\n",
        "  print(f\"{num} é negativo\")\n"
      ],
      "metadata": {
        "id": "7tlPqBkUzErI"
      },
      "id": "7tlPqBkUzErI",
      "execution_count": null,
      "outputs": []
    },
    {
      "cell_type": "code",
      "source": [
        "#3.\n",
        "letra = input(\"Digite uma letra:\")\n",
        "if letra == \"a\" or letra == \"e\" or letra == \"i\" or letra == \"o\" or letra == \"u\":\n",
        "  print(f\"{letra} é uma vogal\")\n",
        "elif letra == \"A\" or letra == \"E\" or letra == \"I\" or letra ==  \"O\" or letra == \"u\":\n",
        "    print(f\"{letra} é uma vogal\")\n",
        "else:\n",
        "  print(f\"{letra} é igual uma consoante\")"
      ],
      "metadata": {
        "id": "IjPdui52057S"
      },
      "id": "IjPdui52057S",
      "execution_count": null,
      "outputs": []
    },
    {
      "cell_type": "code",
      "source": [
        "# Resposta do professor\n",
        "letra = input('Informe uma letra: ')\n",
        "\n",
        "if ('AEIOU'.find(letra.upper()) >= 0):\n",
        "    print('VOGAL')\n",
        "else:\n",
        "    print('CONSOANTE') ## Achei sacanagem que o meu script ficou longo sendo que esse aqui era bem mais fácil, vou usar essa forma a partir de agora."
      ],
      "metadata": {
        "id": "rB666m3V4BAr"
      },
      "id": "rB666m3V4BAr",
      "execution_count": null,
      "outputs": []
    },
    {
      "cell_type": "code",
      "source": [
        "# 4.\n",
        "nota1 = float(input(\"Digite a primeira nota:\"))\n",
        "nota2 = float(input(\"Digite a segunda nota:\"))\n",
        "media = (nota1 + nota2) / 2\n",
        "if media >= 10:\n",
        "  print(\"Aprovado com distinção\")\n",
        "elif media >= 7:\n",
        "    print(\"Aprovado\")\n",
        "else:\n",
        "  print(\"REPROVADO!!!\")"
      ],
      "metadata": {
        "id": "FgXWA9ki7YeV"
      },
      "id": "FgXWA9ki7YeV",
      "execution_count": null,
      "outputs": []
    },
    {
      "cell_type": "code",
      "source": [
        "# 5.\n",
        "produto1 = float(input(\"Digite o preço do produto: \"))\n",
        "produto2 = float(input(\"Digite o preço do produto: \"))\n",
        "produto3 = float(input(\"Digite o preço do produto: \"))\n",
        "if (produto1 == produto2) and (produto2 == produto3):\n",
        "  print(\"Qualquer produto pode ser levado\")\n",
        "elif (produto1 < produto2) and (produto1 < produto3):\n",
        "  print(f\"o produto com preço {produto1} é o mais barato\")\n",
        "elif (produto2 < produto1) and (produto2 < produto3):\n",
        "  print(f\"o produto com preço {produto2} é o mais barato\")\n",
        "else:\n",
        "  print(f\"o produto com preço {produto3} é o mais barato\")"
      ],
      "metadata": {
        "id": "HblrfFUn9xMG"
      },
      "id": "HblrfFUn9xMG",
      "execution_count": null,
      "outputs": []
    },
    {
      "cell_type": "code",
      "source": [
        "#\n",
        "num1 = int(input(\"Digite um número: \"))\n",
        "num2 = int(input(\"Digite um número: \"))\n",
        "num3 = int(input(\"Digite um número: \"))\n",
        "if (num1 >= num2) and (num1 >= num3):\n",
        "  print (num1)\n",
        "  if (num2 >= num3):\n",
        "    print(num2)\n",
        "    print(num3)\n",
        "  else:\n",
        "    print(num3)\n",
        "    print(num2)\n",
        "elif (num2 >= num1) and (num2 >= num3):\n",
        "  print (num2)\n",
        "  if (num1 >= num3):\n",
        "    print(num1)\n",
        "    print(num3)\n",
        "  else:\n",
        "    print(num3)\n",
        "    print(num1)\n",
        "else:\n",
        "  print (num3)\n",
        "  if (num1 >= num2):\n",
        "    print(num1)\n",
        "    print(num2)\n",
        "  else:\n",
        "    print(num2)\n",
        "    print(num1)\n"
      ],
      "metadata": {
        "id": "IN6G_ASnA56w"
      },
      "id": "IN6G_ASnA56w",
      "execution_count": null,
      "outputs": []
    },
    {
      "cell_type": "code",
      "source": [
        "#7\n",
        "turno = input(\"Digite qual sigla corresporde seu turno M-matutino, V-vespertino ou N-noturno: \").upper()\n",
        "if turno == \"M\":\n",
        "  print(\"Bom dia!\")\n",
        "elif turno == \"V\":\n",
        "  print(\"Boa tarde!\")\n",
        "elif turno == \"N\":\n",
        "  print(\"Boa noite!\")\n",
        "else:\n",
        "  print(\"Valor inválido!\")\n"
      ],
      "metadata": {
        "id": "Fs4R6dmRquIE"
      },
      "id": "Fs4R6dmRquIE",
      "execution_count": null,
      "outputs": []
    },
    {
      "cell_type": "code",
      "source": [
        "#10.\n",
        "nota1 = float(input(\"Digite a primeira nota: \"))\n",
        "nota2 = float(input(\"Digite a segunda nota: \"))\n",
        "media = (nota1 + nota2) / 2\n",
        "if media >= 9:\n",
        "  print(\"Conceito A\")\n",
        "  print(\"PARABÉNS!!!\")\n",
        "elif media >= 7.5:\n",
        "  print(\"Conceito B\")\n",
        "  print(\"Muito bem\")\n",
        "elif media >= 6:\n",
        "  print(\"Conceito C\")\n",
        "  print(\"Você precisa estudar mais\")\n",
        "elif media >= 4:\n",
        "  print(\"Conceito D\")\n",
        "  print(\"Você precisa estudar mais\")\n",
        "else:\n",
        "  print(\"Conceito E\")\n",
        "  print(\"Você precisa estudar muito!\")\n"
      ],
      "metadata": {
        "id": "W3tps8tGCdvS"
      },
      "id": "W3tps8tGCdvS",
      "execution_count": null,
      "outputs": []
    },
    {
      "cell_type": "code",
      "source": [
        "## PARTE 2"
      ],
      "metadata": {
        "id": "ipRKTUcquTN5"
      },
      "id": "ipRKTUcquTN5",
      "execution_count": null,
      "outputs": []
    },
    {
      "cell_type": "code",
      "source": [
        "#1 Faça um programa que peça uma nota, entre zero e dez. Mostre uma mensagem caso o valor seja inválido e continue pedindo até que o usuário informe um valor válido.\n",
        "nota = float(input(\"Digite uma nota entre 0 e 10: \"))\n",
        "while (nota < 0) or (nota > 10):\n",
        "  print(\"Nota inválida\")\n",
        "  nota = float(input(\"Digite uma nota entre 0 e 10: \"))\n",
        "  if (nota >= 0) and (nota <= 10):\n",
        "    print(\"Nota válida\")\n",
        ""
      ],
      "metadata": {
        "id": "jTh4LD4IzFA-"
      },
      "id": "jTh4LD4IzFA-",
      "execution_count": null,
      "outputs": []
    },
    {
      "cell_type": "code",
      "source": [
        "#2\n",
        "usuario = input(\"Digite um seu nome de usuário: \").upper()\n",
        "senha = input(\"Digite uma senha: \").upper()\n",
        "if senha == usuario:\n",
        "  print(\"Erro!! a senha não pode ser igual ao nome de usuário\")\n",
        "else:\n",
        "  print(\"Bem vindo de volta!\")"
      ],
      "metadata": {
        "id": "FtubXlvDGpjW"
      },
      "id": "FtubXlvDGpjW",
      "execution_count": null,
      "outputs": []
    },
    {
      "cell_type": "code",
      "source": [
        "#7\n",
        "def fibonacci(n):\n",
        "    if n == 0:\n",
        "        return 0\n",
        "    elif n == 1:\n",
        "        return 1\n",
        "    else:\n",
        "        return fibonacci(n-1) + fibonacci(n-2)\n",
        "\n",
        "n = int(input(\"Digite um número: \"))\n",
        "for i in range(n):\n",
        "    print(fibonacci(i))\n",
        "\n"
      ],
      "metadata": {
        "id": "vX4mNXXsM9QK"
      },
      "id": "vX4mNXXsM9QK",
      "execution_count": null,
      "outputs": []
    },
    {
      "cell_type": "code",
      "source": [
        "#8\n",
        "n = int(input(\"Digite a quantidade de notas: \"))\n",
        "soma = 0\n",
        "for i in range(n):\n",
        "    nota = float(input(\"Digite a nota: \"))\n",
        "    soma += nota\n",
        "media = soma / n\n",
        "print(f\"A média das notas é: {media}\")"
      ],
      "metadata": {
        "colab": {
          "base_uri": "https://localhost:8080/"
        },
        "id": "eeiTnHurNo9m",
        "outputId": "e171095b-c24b-4c2b-b1e3-567fbc8a6f94"
      },
      "id": "eeiTnHurNo9m",
      "execution_count": 37,
      "outputs": [
        {
          "output_type": "stream",
          "name": "stdout",
          "text": [
            "Digite a quantidade de notas: 5\n",
            "Digite a nota: 10\n",
            "Digite a nota: 10\n",
            "Digite a nota: 10\n",
            "Digite a nota: 10\n",
            "Digite a nota: 10\n",
            "A média das notas é: 10.0\n"
          ]
        }
      ]
    },
    {
      "cell_type": "code",
      "source": [
        "6#\n",
        "tabuada = int(input(\"Digite um número para gerar a tabuada: \"))\n",
        "for i in range(1, 11):\n",
        "    print(f\"{tabuada} X {i} = {tabuada * i}\")"
      ],
      "metadata": {
        "colab": {
          "base_uri": "https://localhost:8080/"
        },
        "id": "AuJzMGidNov_",
        "outputId": "b227c82b-6198-4c05-ef81-204451bc9e29"
      },
      "id": "AuJzMGidNov_",
      "execution_count": 35,
      "outputs": [
        {
          "output_type": "stream",
          "name": "stdout",
          "text": [
            "Digite um número para gerar a tabuada: 5\n",
            "5 X 1 = 5\n",
            "5 X 2 = 10\n",
            "5 X 3 = 15\n",
            "5 X 4 = 20\n",
            "5 X 5 = 25\n",
            "5 X 6 = 30\n",
            "5 X 7 = 35\n",
            "5 X 8 = 40\n",
            "5 X 9 = 45\n",
            "5 X 10 = 50\n"
          ]
        }
      ]
    },
    {
      "cell_type": "code",
      "source": [],
      "metadata": {
        "id": "cudI5HjrTgYj"
      },
      "id": "cudI5HjrTgYj",
      "execution_count": null,
      "outputs": []
    }
  ],
  "metadata": {
    "kernelspec": {
      "display_name": "Python 3 (ipykernel)",
      "language": "python",
      "name": "python3"
    },
    "language_info": {
      "codemirror_mode": {
        "name": "ipython",
        "version": 3
      },
      "file_extension": ".py",
      "mimetype": "text/x-python",
      "name": "python",
      "nbconvert_exporter": "python",
      "pygments_lexer": "ipython3",
      "version": "3.12.7"
    },
    "colab": {
      "provenance": []
    }
  },
  "nbformat": 4,
  "nbformat_minor": 5
}