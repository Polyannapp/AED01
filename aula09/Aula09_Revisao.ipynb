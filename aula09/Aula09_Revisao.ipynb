{
 "cells": [
  {
   "cell_type": "markdown",
   "metadata": {},
   "source": [
    "![Algoritmos e Estrutura de Dados I](AED1_banner.jpg)"
   ]
  },
  {
   "cell_type": "markdown",
   "metadata": {},
   "source": [
    "## <font color='blue'>Algoritmos e Estrutura de Dados I</font>\n",
    "## <font color='blue'>Aula 9 -  Revisão</font>"
   ]
  },
  {
   "cell_type": "code",
   "execution_count": null,
   "metadata": {},
   "outputs": [],
   "source": [
    "# Versão da Linguagem Python\n",
    "from platform import python_version\n",
    "print('Versão da Linguagem Python Usada Neste Jupyter Notebook:', python_version())"
   ]
  },
  {
   "cell_type": "markdown",
   "metadata": {},
   "source": [
    "## Estrutura sequencial"
   ]
  },
  {
   "cell_type": "markdown",
   "metadata": {},
   "source": [
    "Escreva um programa em Python que solicite ao usuário o valor de dois números, calcule e exiba a soma deles."
   ]
  },
  {
   "cell_type": "code",
   "execution_count": 1,
   "metadata": {},
   "outputs": [
    {
     "name": "stdin",
     "output_type": "stream",
     "text": [
      "Digite o primeiro valor:  25\n",
      "Digite o segundo valor:  25\n"
     ]
    },
    {
     "name": "stdout",
     "output_type": "stream",
     "text": [
      "A soma dos valores é 50\n"
     ]
    }
   ],
   "source": [
    "valor1 = int(input(\"Digite o primeiro valor: \"))\n",
    "valor2 = int(input(\"Digite o segundo valor: \"))\n",
    "soma = valor1 + valor2\n",
    "print(f\"A soma dos valores é {soma}\")"
   ]
  },
  {
   "attachments": {},
   "cell_type": "markdown",
   "metadata": {},
   "source": [
    "Escreva um programa em Python que solicite ao usuário a temperatura em graus Celsius e converta para Fahrenheit. A fórmula para conversão é F = C * 9/5 + 32.\n"
   ]
  },
  {
   "cell_type": "code",
   "execution_count": 3,
   "metadata": {},
   "outputs": [
    {
     "name": "stdin",
     "output_type": "stream",
     "text": [
      "Digite a tempratura em graus Celsius:  35\n"
     ]
    },
    {
     "name": "stdout",
     "output_type": "stream",
     "text": [
      "A temperatura em graus Celsius em Fahreheint é 95.0\n"
     ]
    }
   ],
   "source": [
    "graus_Celsius = float(input(\"Digite a tempratura em graus Celsius: \"))\n",
    "graus_Fahrenheit = graus_Celsius * 9 / 5 + 32\n",
    "print(f\"A temperatura em graus Celsius em Fahreheint é {graus_Fahrenheit}\")"
   ]
  },
  {
   "cell_type": "markdown",
   "metadata": {},
   "source": [
    "## Estrutura Condicional"
   ]
  },
  {
   "cell_type": "markdown",
   "metadata": {},
   "source": [
    "Escreva um programa em Python que solicite ao usuário um número e verifique se ele é positivo, negativo ou zero. Exiba a mensagem correspondente.\n"
   ]
  },
  {
   "cell_type": "code",
   "execution_count": 9,
   "metadata": {},
   "outputs": [
    {
     "name": "stdin",
     "output_type": "stream",
     "text": [
      "Digite o valor:  0\n"
     ]
    },
    {
     "name": "stdout",
     "output_type": "stream",
     "text": [
      "O número 0.0 é zero.\n"
     ]
    }
   ],
   "source": [
    "numero = float(input(\"Digite o valor: \"))\n",
    "if numero > 0:\n",
    "    print(f\"O número {numer} positivo.\")\n",
    "elif numero < 0:\n",
    "    print(f\"O número {numero} é negativo.\")\n",
    "else:\n",
    "    print((f\"O número {numero} é zero.\"))"
   ]
  },
  {
   "cell_type": "markdown",
   "metadata": {},
   "source": [
    "Escreva um programa em Python que solicite ao usuário três números e determine qual é o maior entre eles.\n"
   ]
  },
  {
   "cell_type": "code",
   "execution_count": 11,
   "metadata": {},
   "outputs": [
    {
     "name": "stdin",
     "output_type": "stream",
     "text": [
      "Digite o primeiro número:  20\n",
      "Digite o segundo número:  30\n",
      "Digite o terceiro número:  40\n"
     ]
    },
    {
     "name": "stdout",
     "output_type": "stream",
     "text": [
      "O maior número é 40\n"
     ]
    }
   ],
   "source": [
    "numero1 = int(input(\"Digite o primeiro número: \"))\n",
    "numero2 = int(input(\"Digite o segundo número: \"))\n",
    "numero3 = int(input(\"Digite o terceiro número: \"))\n",
    "if numero1 >= numero2 and numero1 >= numero3:\n",
    "    print(f\"O maior número é {numero1}\")\n",
    "elif numero2 >= numero1 and numero2 >= numero3:\n",
    "    print(f\"O maior número é {numero2}\")\n",
    "else:\n",
    "    print(f\"O maior número é {numero3}\")"
   ]
  },
  {
   "cell_type": "markdown",
   "metadata": {},
   "source": [
    "## Estrutura de Repetição"
   ]
  },
  {
   "cell_type": "markdown",
   "metadata": {},
   "source": [
    "Escreva um programa em Python que exiba todos os números de 1 a 10.\n"
   ]
  },
  {
   "cell_type": "code",
   "execution_count": 12,
   "metadata": {},
   "outputs": [
    {
     "name": "stdout",
     "output_type": "stream",
     "text": [
      "1\n",
      "2\n",
      "3\n",
      "4\n",
      "5\n",
      "6\n",
      "7\n",
      "8\n",
      "9\n",
      "10\n"
     ]
    }
   ],
   "source": [
    "for numero in range (1, 11):\n",
    "    print(numero)"
   ]
  },
  {
   "cell_type": "markdown",
   "metadata": {},
   "source": [
    "Escreva um programa em Python que solicite ao usuário um número inteiro positivo e calcule o fatorial desse número.\n"
   ]
  },
  {
   "cell_type": "code",
   "execution_count": 13,
   "metadata": {},
   "outputs": [
    {
     "name": "stdin",
     "output_type": "stream",
     "text": [
      "Digite um número inteiro positivo:  5\n"
     ]
    },
    {
     "name": "stdout",
     "output_type": "stream",
     "text": [
      "O fatorial de 5 é 120\n"
     ]
    }
   ],
   "source": [
    "num = int(input(\"Digite um número inteiro positivo: \"))\n",
    "if num < 0:\n",
    "    print(\"Número inválido! O número deve ser positivo!\")\n",
    "else:\n",
    "    fatorial = 1\n",
    "    for i in range(1, num + 1):\n",
    "        fatorial *= i\n",
    "    print(f\"O fatorial de {num} é {fatorial}\")"
   ]
  },
  {
   "cell_type": "markdown",
   "metadata": {},
   "source": [
    "## Geral"
   ]
  },
  {
   "cell_type": "markdown",
   "metadata": {},
   "source": [
    "Você é um cientista de dados e precisa analisar as notas de um conjunto de estudantes em uma disciplina. Você deverá escrever um programa em Python que solicite ao usuário o número de estudantes e, em seguida, as notas desses estudantes. O programa deve calcular e exibir:\n",
    "\n",
    "- A média das notas.\n",
    "- A maior e a menor nota.\n",
    "- O número de estudantes aprovados (nota maior ou igual a 6) e reprovados (nota menor que 6).\n",
    "\n",
    "Regras:\n",
    "\n",
    "- Utilize variáveis simples para armazenar as informações.\n",
    "- Utilize estruturas de repetição para coletar as notas dos estudantes.\n",
    "- Utilize estruturas condicionais para determinar o status de aprovação dos estudantes."
   ]
  },
  {
   "cell_type": "code",
   "execution_count": 19,
   "metadata": {},
   "outputs": [
    {
     "name": "stdin",
     "output_type": "stream",
     "text": [
      "Digite o número de estudantes:  4\n",
      "Nota do estudante 1:  10\n",
      "Nota do estudante 2:  10\n",
      "Nota do estudante 3:  5\n",
      "Nota do estudante 4:  6\n"
     ]
    },
    {
     "name": "stdout",
     "output_type": "stream",
     "text": [
      "\n",
      "Resultados:\n",
      "Média: 7.75\n",
      "Maior nota: 10.0\n",
      "Menor nota: 5.0\n",
      "Aprovados: 3\n",
      "Reprovados: 1\n"
     ]
    }
   ],
   "source": [
    "n = int(input(\"Digite o número de estudantes: \"))\n",
    "soma = maior = 0\n",
    "menor = 10\n",
    "aprovados = reprovados = 0\n",
    "for i in range(1, n + 1):\n",
    "    nota = float(input(f\"Nota do estudante {i}: \"))\n",
    "    soma += nota\n",
    "    if nota > maior: maior = nota\n",
    "    if nota < menor: menor = nota\n",
    "    if nota >= 6: aprovados += 1\n",
    "    else: reprovados += 1\n",
    "media = soma / n\n",
    "print(\"\\nResultados:\")\n",
    "print(f\"Média: {media:.2f}\")\n",
    "print(f\"Maior nota: {maior}\")\n",
    "print(f\"Menor nota: {menor}\")\n",
    "print(f\"Aprovados: {aprovados}\")\n",
    "print(f\"Reprovados: {reprovados}\")"
   ]
  },
  {
   "cell_type": "markdown",
   "metadata": {},
   "source": [
    "Faça um programa que receba um número inteiro positivo e transforme esse número para binário."
   ]
  },
  {
   "cell_type": "code",
   "execution_count": 20,
   "metadata": {},
   "outputs": [
    {
     "name": "stdin",
     "output_type": "stream",
     "text": [
      "Digite um número inteiro positivo: 25\n"
     ]
    },
    {
     "name": "stdout",
     "output_type": "stream",
     "text": [
      "O número 25 em binário é: 11001\n"
     ]
    }
   ],
   "source": [
    "num = int(input(\"Digite um número inteiro positivo:\"))\n",
    "if num < 0:\n",
    "    print(\"Número inválido! O número deve ser positivo!\")\n",
    "else: \n",
    "    binario = bin(num)[2:]\n",
    "    print(f\"O número {num} em binário é: {binario}\")"
   ]
  },
  {
   "cell_type": "markdown",
   "metadata": {},
   "source": [
    "## Fim da Aula 9"
   ]
  }
 ],
 "metadata": {
  "kernelspec": {
   "display_name": "Python 3 (ipykernel)",
   "language": "python",
   "name": "python3"
  },
  "language_info": {
   "codemirror_mode": {
    "name": "ipython",
    "version": 3
   },
   "file_extension": ".py",
   "mimetype": "text/x-python",
   "name": "python",
   "nbconvert_exporter": "python",
   "pygments_lexer": "ipython3",
   "version": "3.12.7"
  }
 },
 "nbformat": 4,
 "nbformat_minor": 4
}
