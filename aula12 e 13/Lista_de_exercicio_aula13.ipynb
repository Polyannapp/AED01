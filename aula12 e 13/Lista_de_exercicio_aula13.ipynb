{
 "cells": [
  {
   "cell_type": "code",
   "execution_count": 1,
   "id": "519df381-747f-416d-9d1f-d36d9cd3a83a",
   "metadata": {},
   "outputs": [
    {
     "name": "stdin",
     "output_type": "stream",
     "text": [
      " BTS PAVED THE WAY\n"
     ]
    },
    {
     "name": "stdout",
     "output_type": "stream",
     "text": [
      "bts_paved_the_way\n"
     ]
    }
   ],
   "source": [
    "#Exercício 1:\n",
    "frase = input().lower().strip()\n",
    "frase = \"_\".join(frase.split())\n",
    "print(frase)"
   ]
  },
  {
   "cell_type": "code",
   "execution_count": 3,
   "id": "a609a1ca-30c7-4f80-a595-d7fd5b3ad8a4",
   "metadata": {},
   "outputs": [
    {
     "name": "stdout",
     "output_type": "stream",
     "text": [
      "Média das vendas filtradas: 206.67\n"
     ]
    }
   ],
   "source": [
    "#Exercicio 2\n",
    "vendas = [120, 85, 300, 55, 200, 95]\n",
    "filtradas = [v for v in vendas if v >= 100]\n",
    "media = sum(filtradas) / len(filtradas)\n",
    "print(f\"Média das vendas filtradas: {media:.2f}\")"
   ]
  },
  {
   "cell_type": "code",
   "execution_count": 5,
   "id": "f4789997-c8e0-4afe-b84a-f2fc1e0619b4",
   "metadata": {},
   "outputs": [
    {
     "name": "stdin",
     "output_type": "stream",
     "text": [
      "Digite x1:  0\n",
      "Digite y1:  1\n",
      "Digite x2:  2\n",
      "Digite y2:  3\n",
      "Digite x3:  4\n",
      "Digite y3:  5\n"
     ]
    },
    {
     "name": "stdout",
     "output_type": "stream",
     "text": [
      "Distância média: 3.7\n"
     ]
    }
   ],
   "source": [
    "#exercicio 3\n",
    "import math\n",
    "x1 = int(input(\"Digite x1: \"))\n",
    "y1 = int(input(\"Digite y1: \"))\n",
    "x2 = int(input(\"Digite x2: \"))\n",
    "y2 = int(input(\"Digite y2: \"))\n",
    "x3 = int(input(\"Digite x3: \"))\n",
    "y3 = int(input(\"Digite y3: \"))\n",
    "d1 = math.sqrt(x1**2 + y1**2)\n",
    "d2 = math.sqrt(x2**2 + y2**2)\n",
    "d3 = math.sqrt(x3**2 + y3**2)\n",
    "media = (d1 + d2 + d3) / 3\n",
    "print(f\"Distância média: {media:.1f}\")"
   ]
  },
  {
   "cell_type": "code",
   "execution_count": 6,
   "id": "d2737a5a-4840-444f-b2ae-c42238f51d72",
   "metadata": {},
   "outputs": [
    {
     "name": "stdin",
     "output_type": "stream",
     "text": [
      "Digite uma frase:  BTS PAVED THE WAY\n"
     ]
    },
    {
     "name": "stdout",
     "output_type": "stream",
     "text": [
      "Frequência de palavras: {'bts': 1, 'paved': 1, 'the': 1, 'way': 1}\n"
     ]
    }
   ],
   "source": [
    "#Exercicio 4\n",
    "frase = input(\"Digite uma frase: \").lower()\n",
    "palavras = frase.split()\n",
    "frequencia = {}\n",
    "for palavra in palavras:\n",
    "    if palavra in frequencia:\n",
    "        frequencia[palavra] += 1\n",
    "    else:\n",
    "        frequencia[palavra] = 1\n",
    "print(f\"Frequência de palavras: {frequencia}\")"
   ]
  }
 ],
 "metadata": {
  "kernelspec": {
   "display_name": "Python 3 (ipykernel)",
   "language": "python",
   "name": "python3"
  },
  "language_info": {
   "codemirror_mode": {
    "name": "ipython",
    "version": 3
   },
   "file_extension": ".py",
   "mimetype": "text/x-python",
   "name": "python",
   "nbconvert_exporter": "python",
   "pygments_lexer": "ipython3",
   "version": "3.12.7"
  }
 },
 "nbformat": 4,
 "nbformat_minor": 5
}
