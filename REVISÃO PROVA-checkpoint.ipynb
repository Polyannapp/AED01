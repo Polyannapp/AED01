{
 "cells": [
  {
   "cell_type": "code",
   "execution_count": 1,
   "id": "195f0526-e92f-4d5c-99ce-d11617bd77c1",
   "metadata": {},
   "outputs": [
    {
     "name": "stdout",
     "output_type": "stream",
     "text": [
      "olá mundo!!\n"
     ]
    }
   ],
   "source": [
    "#COMANDO PRINT\n",
    "print(\"olá mundo!!\")"
   ]
  },
  {
   "cell_type": "code",
   "execution_count": 2,
   "id": "80eb6f0d-b1d0-436c-8a41-ca8e2d0a42f3",
   "metadata": {},
   "outputs": [
    {
     "name": "stdout",
     "output_type": "stream",
     "text": [
      "11\n"
     ]
    }
   ],
   "source": [
    "print (6+5)"
   ]
  },
  {
   "cell_type": "code",
   "execution_count": 3,
   "id": "03ef7d2e-48f1-44a2-86ff-930e3442f33f",
   "metadata": {},
   "outputs": [
    {
     "name": "stdout",
     "output_type": "stream",
     "text": [
      "65\n"
     ]
    }
   ],
   "source": [
    "print (\"6\" + \"5\")"
   ]
  },
  {
   "cell_type": "code",
   "execution_count": 4,
   "id": "a39a10a3-a491-4d92-9425-61234b128295",
   "metadata": {},
   "outputs": [
    {
     "name": "stdout",
     "output_type": "stream",
     "text": [
      "5\n"
     ]
    }
   ],
   "source": [
    "#comando print com variável\n",
    "x = 5\n",
    "print(x)"
   ]
  },
  {
   "cell_type": "code",
   "execution_count": 5,
   "id": "16daa351-1647-43da-a1db-12b4f1fd4bcd",
   "metadata": {},
   "outputs": [
    {
     "name": "stdout",
     "output_type": "stream",
     "text": [
      "11\n"
     ]
    }
   ],
   "source": [
    "y = 6\n",
    "print(x+y)"
   ]
  },
  {
   "cell_type": "code",
   "execution_count": 6,
   "id": "1ef71ca0-a0f9-40bd-8dd2-52f986f51706",
   "metadata": {},
   "outputs": [
    {
     "data": {
      "text/plain": [
       "int"
      ]
     },
     "execution_count": 6,
     "metadata": {},
     "output_type": "execute_result"
    }
   ],
   "source": [
    "type(x)"
   ]
  },
  {
   "cell_type": "code",
   "execution_count": 7,
   "id": "5a7347e0-dab6-4fe5-bbe3-f19b160fad2e",
   "metadata": {},
   "outputs": [
    {
     "name": "stdout",
     "output_type": "stream",
     "text": [
      "resultado da soma: 11\n"
     ]
    }
   ],
   "source": [
    "x = 5\n",
    "y = 6\n",
    "print(\"resultado da soma:\", x + y)"
   ]
  },
  {
   "cell_type": "code",
   "execution_count": 14,
   "id": "5b9575e9-f7f6-43c9-b3e0-8e954aad704d",
   "metadata": {},
   "outputs": [
    {
     "name": "stdout",
     "output_type": "stream",
     "text": [
      "Maria tem 25 anos!\n"
     ]
    }
   ],
   "source": [
    "nome = \"Maria\"\n",
    "idade = 25\n",
    "print(nome, \"tem\", idade, \"anos!\")"
   ]
  },
  {
   "cell_type": "code",
   "execution_count": 9,
   "id": "bbe8c964-1e78-4a62-82d9-f3db70707be3",
   "metadata": {},
   "outputs": [
    {
     "data": {
      "text/plain": [
       "str"
      ]
     },
     "execution_count": 9,
     "metadata": {},
     "output_type": "execute_result"
    }
   ],
   "source": [
    "type(nome)"
   ]
  },
  {
   "cell_type": "code",
   "execution_count": 10,
   "id": "f451b41d-392e-4855-a7b5-41849840a8a8",
   "metadata": {},
   "outputs": [
    {
     "data": {
      "text/plain": [
       "int"
      ]
     },
     "execution_count": 10,
     "metadata": {},
     "output_type": "execute_result"
    }
   ],
   "source": [
    "type(idade)"
   ]
  },
  {
   "cell_type": "code",
   "execution_count": 16,
   "id": "30ab5d3f-6f2b-4e0c-a872-c7b604ba4d58",
   "metadata": {},
   "outputs": [
    {
     "name": "stdin",
     "output_type": "stream",
     "text": [
      "digite seu nome: Polyanna\n"
     ]
    }
   ],
   "source": [
    "#Comando input\n",
    "nome = input(\"digite seu nome:\")"
   ]
  },
  {
   "cell_type": "code",
   "execution_count": 18,
   "id": "720dbfad-e598-49cf-8972-ad566398e385",
   "metadata": {},
   "outputs": [
    {
     "name": "stdin",
     "output_type": "stream",
     "text": [
      "digite seu nome: Polyanna\n",
      "digite sua idade: 19\n"
     ]
    },
    {
     "name": "stdout",
     "output_type": "stream",
     "text": [
      "Polyanna tem 19 anos!!\n"
     ]
    }
   ],
   "source": [
    "nome = input(\"digite seu nome:\")\n",
    "idade = input(\"digite sua idade:\")\n",
    "print(nome, \"tem\", idade, \"anos!!\")"
   ]
  },
  {
   "cell_type": "code",
   "execution_count": 20,
   "id": "f967abe3-e963-4cd3-81fb-6cef0940cd86",
   "metadata": {},
   "outputs": [
    {
     "name": "stdin",
     "output_type": "stream",
     "text": [
      "Digite o valor de x: 34\n",
      "Digite o valor de y: 6\n"
     ]
    },
    {
     "name": "stdout",
     "output_type": "stream",
     "text": [
      "Resultado da soma:  346\n"
     ]
    }
   ],
   "source": [
    "#Como não transformar em concatenação?\n",
    "#exemplo de concatenação:\n",
    "x = input(\"Digite o valor de x:\")\n",
    "y = input(\"Digite o valor de y:\")\n",
    "print(\"Resultado da soma: \", x + y)"
   ]
  },
  {
   "cell_type": "code",
   "execution_count": 22,
   "id": "9e4faa3b-b57e-4fcc-bb68-527deeee1c89",
   "metadata": {},
   "outputs": [
    {
     "name": "stdin",
     "output_type": "stream",
     "text": [
      "Digite o valor de x: 1\n",
      "Digite o valor de y: 1\n"
     ]
    },
    {
     "name": "stdout",
     "output_type": "stream",
     "text": [
      "Resultado da soma: : 2\n"
     ]
    }
   ],
   "source": [
    "#Resolução de primeiro desafio:\n",
    "x = input(\"Digite o valor de x:\")\n",
    "y = input(\"Digite o valor de y:\")\n",
    "x = int(x)\n",
    "y = int(y)\n",
    "print(\"Resultado da soma: :\", x + y)"
   ]
  },
  {
   "cell_type": "code",
   "execution_count": 23,
   "id": "b12cdf56-9b7d-4a75-ac55-f757ebfdbeac",
   "metadata": {},
   "outputs": [
    {
     "name": "stdin",
     "output_type": "stream",
     "text": [
      "Digite o valor de x: 1\n",
      "Digite o valor de y: 1\n"
     ]
    },
    {
     "name": "stdout",
     "output_type": "stream",
     "text": [
      "Resultado da soma:  2\n"
     ]
    }
   ],
   "source": [
    "x = int(input(\"Digite o valor de x:\"))\n",
    "y = int(input(\"Digite o valor de y:\"))\n",
    "print(\"Resultado da soma: \", x+y)"
   ]
  },
  {
   "cell_type": "code",
   "execution_count": 24,
   "id": "f1f9c834-6a0e-4ddc-9625-f454f07f5788",
   "metadata": {},
   "outputs": [
    {
     "name": "stdin",
     "output_type": "stream",
     "text": [
      "Digite o valor de x: 1\n",
      "Digite o valor de y: 1\n"
     ]
    },
    {
     "name": "stdout",
     "output_type": "stream",
     "text": [
      "resultado da soma é:  2.0\n"
     ]
    }
   ],
   "source": [
    "x = float(input(\"Digite o valor de x:\"))\n",
    "y = float(input(\"Digite o valor de y:\"))\n",
    "print(\"resultado da soma é: \", x + y)"
   ]
  },
  {
   "cell_type": "code",
   "execution_count": 25,
   "id": "b6aaa2a6-5375-4a78-a6a3-4b7d8c0ad4b7",
   "metadata": {},
   "outputs": [
    {
     "data": {
      "text/plain": [
       "float"
      ]
     },
     "execution_count": 25,
     "metadata": {},
     "output_type": "execute_result"
    }
   ],
   "source": [
    "type(x)"
   ]
  },
  {
   "cell_type": "code",
   "execution_count": 29,
   "id": "04913359-0d04-4a9d-a046-21ffedb6d433",
   "metadata": {},
   "outputs": [],
   "source": [
    "#comentário em uma linha\n",
    "\"\"\"comentario \n",
    "em \n",
    "varias linhas\"\"\""
   ]
  },
  {
   "cell_type": "code",
   "execution_count": 1,
   "id": "360f281c-f9b6-493d-9a8c-547d298e357b",
   "metadata": {},
   "outputs": [
    {
     "data": {
      "text/plain": [
       "10"
      ]
     },
     "execution_count": 1,
     "metadata": {},
     "output_type": "execute_result"
    }
   ],
   "source": [
    "#tipos de dados - Apresentando dados intteiros:\n",
    "10"
   ]
  },
  {
   "cell_type": "code",
   "execution_count": 2,
   "id": "71853d52-fbc7-4b46-83e4-fd82c0b80933",
   "metadata": {},
   "outputs": [
    {
     "data": {
      "text/plain": [
       "int"
      ]
     },
     "execution_count": 2,
     "metadata": {},
     "output_type": "execute_result"
    }
   ],
   "source": [
    "type(10)"
   ]
  },
  {
   "cell_type": "code",
   "execution_count": 3,
   "id": "79ec10fa-4597-4d11-8413-1f404b056ce2",
   "metadata": {},
   "outputs": [],
   "source": [
    "num = 10"
   ]
  },
  {
   "cell_type": "code",
   "execution_count": 4,
   "id": "bb6a5ae9-6536-4b8e-848f-b8280510e40f",
   "metadata": {},
   "outputs": [
    {
     "data": {
      "text/plain": [
       "int"
      ]
     },
     "execution_count": 4,
     "metadata": {},
     "output_type": "execute_result"
    }
   ],
   "source": [
    "type(num)"
   ]
  },
  {
   "cell_type": "code",
   "execution_count": 5,
   "id": "07beb5d4-fc32-4b83-8d65-16191e488f3b",
   "metadata": {},
   "outputs": [
    {
     "name": "stdout",
     "output_type": "stream",
     "text": [
      "10\n"
     ]
    }
   ],
   "source": [
    "print(num)"
   ]
  },
  {
   "cell_type": "code",
   "execution_count": 9,
   "id": "74ceb9c3-ddd9-41dc-8a81-38791687b068",
   "metadata": {},
   "outputs": [],
   "source": [
    "#float\n",
    "x = 10.0"
   ]
  },
  {
   "cell_type": "code",
   "execution_count": 10,
   "id": "2aa9c56f-1de9-4c29-b211-aa4e34b3dedf",
   "metadata": {},
   "outputs": [
    {
     "data": {
      "text/plain": [
       "float"
      ]
     },
     "execution_count": 10,
     "metadata": {},
     "output_type": "execute_result"
    }
   ],
   "source": [
    "type(x)"
   ]
  },
  {
   "cell_type": "code",
   "execution_count": 11,
   "id": "f352165c-c427-4473-bc29-0e61b9d7ae1a",
   "metadata": {},
   "outputs": [
    {
     "name": "stdout",
     "output_type": "stream",
     "text": [
      "31.0\n"
     ]
    }
   ],
   "source": [
    "num = 10.44+20.56\n",
    "print(num)"
   ]
  },
  {
   "cell_type": "code",
   "execution_count": 12,
   "id": "7713dbad-cf63-4970-a7ef-65482af2505c",
   "metadata": {},
   "outputs": [
    {
     "data": {
      "text/plain": [
       "float"
      ]
     },
     "execution_count": 12,
     "metadata": {},
     "output_type": "execute_result"
    }
   ],
   "source": [
    "type(num)"
   ]
  },
  {
   "cell_type": "code",
   "execution_count": 1,
   "id": "213f46f6-d825-401e-9462-ba458f80dc87",
   "metadata": {},
   "outputs": [
    {
     "data": {
      "text/plain": [
       "True"
      ]
     },
     "execution_count": 1,
     "metadata": {},
     "output_type": "execute_result"
    }
   ],
   "source": [
    "#Booleanos \n",
    "True"
   ]
  },
  {
   "cell_type": "code",
   "execution_count": 2,
   "id": "e6c43db0-23e5-4b5b-9889-c3b72294ecba",
   "metadata": {},
   "outputs": [
    {
     "data": {
      "text/plain": [
       "bool"
      ]
     },
     "execution_count": 2,
     "metadata": {},
     "output_type": "execute_result"
    }
   ],
   "source": [
    "type(True)"
   ]
  },
  {
   "cell_type": "code",
   "execution_count": 3,
   "id": "dec465e8-689f-4e37-8ba4-02b51d40e066",
   "metadata": {},
   "outputs": [
    {
     "data": {
      "text/plain": [
       "['__abs__',\n",
       " '__add__',\n",
       " '__and__',\n",
       " '__bool__',\n",
       " '__ceil__',\n",
       " '__class__',\n",
       " '__delattr__',\n",
       " '__dir__',\n",
       " '__divmod__',\n",
       " '__doc__',\n",
       " '__eq__',\n",
       " '__float__',\n",
       " '__floor__',\n",
       " '__floordiv__',\n",
       " '__format__',\n",
       " '__ge__',\n",
       " '__getattribute__',\n",
       " '__getnewargs__',\n",
       " '__getstate__',\n",
       " '__gt__',\n",
       " '__hash__',\n",
       " '__index__',\n",
       " '__init__',\n",
       " '__init_subclass__',\n",
       " '__int__',\n",
       " '__invert__',\n",
       " '__le__',\n",
       " '__lshift__',\n",
       " '__lt__',\n",
       " '__mod__',\n",
       " '__mul__',\n",
       " '__ne__',\n",
       " '__neg__',\n",
       " '__new__',\n",
       " '__or__',\n",
       " '__pos__',\n",
       " '__pow__',\n",
       " '__radd__',\n",
       " '__rand__',\n",
       " '__rdivmod__',\n",
       " '__reduce__',\n",
       " '__reduce_ex__',\n",
       " '__repr__',\n",
       " '__rfloordiv__',\n",
       " '__rlshift__',\n",
       " '__rmod__',\n",
       " '__rmul__',\n",
       " '__ror__',\n",
       " '__round__',\n",
       " '__rpow__',\n",
       " '__rrshift__',\n",
       " '__rshift__',\n",
       " '__rsub__',\n",
       " '__rtruediv__',\n",
       " '__rxor__',\n",
       " '__setattr__',\n",
       " '__sizeof__',\n",
       " '__str__',\n",
       " '__sub__',\n",
       " '__subclasshook__',\n",
       " '__truediv__',\n",
       " '__trunc__',\n",
       " '__xor__',\n",
       " 'as_integer_ratio',\n",
       " 'bit_count',\n",
       " 'bit_length',\n",
       " 'conjugate',\n",
       " 'denominator',\n",
       " 'from_bytes',\n",
       " 'imag',\n",
       " 'is_integer',\n",
       " 'numerator',\n",
       " 'real',\n",
       " 'to_bytes']"
      ]
     },
     "execution_count": 3,
     "metadata": {},
     "output_type": "execute_result"
    }
   ],
   "source": [
    "dir(True)"
   ]
  },
  {
   "cell_type": "code",
   "execution_count": 4,
   "id": "d5b20d2f-4a25-4d87-b9aa-cf5ff84ee043",
   "metadata": {},
   "outputs": [
    {
     "data": {
      "text/plain": [
       "'polyanna'"
      ]
     },
     "execution_count": 4,
     "metadata": {},
     "output_type": "execute_result"
    }
   ],
   "source": [
    "#String\n",
    "\"polyanna\""
   ]
  },
  {
   "cell_type": "code",
   "execution_count": 6,
   "id": "b64ae373-e7d3-4cbb-9cc8-3ffd2ee1825f",
   "metadata": {},
   "outputs": [
    {
     "data": {
      "text/plain": [
       "str"
      ]
     },
     "execution_count": 6,
     "metadata": {},
     "output_type": "execute_result"
    }
   ],
   "source": [
    "type(\"polyanna\")"
   ]
  },
  {
   "cell_type": "code",
   "execution_count": 7,
   "id": "08ad1f8c-80eb-4f63-a1a3-27142aa1eb0e",
   "metadata": {},
   "outputs": [
    {
     "name": "stdout",
     "output_type": "stream",
     "text": [
      "polyanna\n"
     ]
    }
   ],
   "source": [
    "nome  = \"polyanna\"\n",
    "print(nome)"
   ]
  },
  {
   "cell_type": "code",
   "execution_count": 8,
   "id": "6d2943c1-0fe8-429d-9a0b-c507bd8e485e",
   "metadata": {},
   "outputs": [
    {
     "data": {
      "text/plain": [
       "str"
      ]
     },
     "execution_count": 8,
     "metadata": {},
     "output_type": "execute_result"
    }
   ],
   "source": [
    "type(nome)"
   ]
  },
  {
   "cell_type": "code",
   "execution_count": 11,
   "id": "feb07e13-4a09-4740-a39e-d93695b392cf",
   "metadata": {},
   "outputs": [
    {
     "name": "stdout",
     "output_type": "stream",
     "text": [
      "batatinha quando nasce,\n",
      "espalha a rama pelo chão, \n",
      "meninininha quando dorme põe a mão no coração.\n"
     ]
    }
   ],
   "source": [
    "#String com mais de uma linha:\n",
    "frase = '''batatinha quando nasce,\n",
    "espalha a rama pelo chão, \n",
    "meninininha quando dorme põe a mão no coração.'''\n",
    "print(frase)"
   ]
  },
  {
   "cell_type": "code",
   "execution_count": 14,
   "id": "e0f29fb0-05f2-4889-8b8d-83aa7a01ae74",
   "metadata": {},
   "outputs": [
    {
     "name": "stdout",
     "output_type": "stream",
     "text": [
      "a\n"
     ]
    }
   ],
   "source": [
    "print(frase[1])"
   ]
  },
  {
   "cell_type": "code",
   "execution_count": 15,
   "id": "264d036f-089b-48e2-a638-c3b0506916e6",
   "metadata": {},
   "outputs": [
    {
     "name": "stdout",
     "output_type": "stream",
     "text": [
      "bat\n"
     ]
    }
   ],
   "source": [
    "#pegando os str por parametros:\n",
    "print(frase[0:3:])"
   ]
  },
  {
   "cell_type": "code",
   "execution_count": 17,
   "id": "d6c0df66-bc45-47aa-a902-8692060894ac",
   "metadata": {},
   "outputs": [
    {
     "name": "stdout",
     "output_type": "stream",
     "text": [
      "batatinha\n"
     ]
    }
   ],
   "source": [
    "print(frase[0:9:])"
   ]
  },
  {
   "cell_type": "code",
   "execution_count": 18,
   "id": "88733c86-d4b2-4d53-bbe6-bcb45006772c",
   "metadata": {},
   "outputs": [
    {
     "name": "stdout",
     "output_type": "stream",
     "text": [
      "batatinh\n"
     ]
    }
   ],
   "source": [
    "print(frase[0:8:])"
   ]
  },
  {
   "cell_type": "code",
   "execution_count": 19,
   "id": "afb7a410-1caa-42d2-9e6a-94b09cdffe7f",
   "metadata": {},
   "outputs": [
    {
     "name": "stdout",
     "output_type": "stream",
     "text": [
      "bttna\n"
     ]
    }
   ],
   "source": [
    "print(frase[0:9:2])"
   ]
  },
  {
   "cell_type": "code",
   "execution_count": 21,
   "id": "aead3606-e2ac-4cd5-932f-48700df713e9",
   "metadata": {},
   "outputs": [
    {
     "name": "stdout",
     "output_type": "stream",
     "text": [
      "   pyPRO   \n"
     ]
    }
   ],
   "source": [
    "#Função strip para eliminar espaços\n",
    "palavra = \"   pyPRO   \"\n",
    "print(palavra)"
   ]
  },
  {
   "cell_type": "code",
   "execution_count": 22,
   "id": "39b5236b-5e2e-4dab-9d4d-c9aa7374e5af",
   "metadata": {},
   "outputs": [
    {
     "name": "stdout",
     "output_type": "stream",
     "text": [
      "pyPRO\n"
     ]
    }
   ],
   "source": [
    "print(palavra.strip())"
   ]
  },
  {
   "cell_type": "code",
   "execution_count": 23,
   "id": "5843b9c4-3f52-4f77-ad3a-5ac4a425aed9",
   "metadata": {},
   "outputs": [
    {
     "name": "stdout",
     "output_type": "stream",
     "text": [
      "   pyPRO    Piva\n"
     ]
    }
   ],
   "source": [
    "palavra2 = \"Piva\"\n",
    "print(palavra, palavra2)"
   ]
  },
  {
   "cell_type": "code",
   "execution_count": 24,
   "id": "d7c27c21-c9d2-45f6-a433-a002eff8d298",
   "metadata": {},
   "outputs": [
    {
     "name": "stdout",
     "output_type": "stream",
     "text": [
      "pyPRO Piva\n"
     ]
    }
   ],
   "source": [
    "print(palavra.strip(), palavra2)"
   ]
  },
  {
   "cell_type": "code",
   "execution_count": 25,
   "id": "e0225696-a1f5-41e7-b780-19d1a861c3a6",
   "metadata": {},
   "outputs": [
    {
     "name": "stdout",
     "output_type": "stream",
     "text": [
      "BATATINHA QUANDO NASCE,\n",
      "ESPALHA A RAMA PELO CHÃO, \n",
      "MENINININHA QUANDO DORME PÕE A MÃO NO CORAÇÃO.\n"
     ]
    }
   ],
   "source": [
    "#Comando de letras maiusculas e minusculas:\n",
    "print(frase.upper())"
   ]
  },
  {
   "cell_type": "code",
   "execution_count": 26,
   "id": "b543f074-7853-4fe3-a505-84560d7ca5a2",
   "metadata": {},
   "outputs": [
    {
     "name": "stdout",
     "output_type": "stream",
     "text": [
      "batatinha quando nasce,\n",
      "espalha a rama pelo chão, \n",
      "meninininha quando dorme põe a mão no coração.\n"
     ]
    }
   ],
   "source": [
    "print(frase.lower())"
   ]
  },
  {
   "cell_type": "code",
   "execution_count": 27,
   "id": "bbf77ac3-fe59-44bc-bb46-4317603283d4",
   "metadata": {},
   "outputs": [
    {
     "name": "stdout",
     "output_type": "stream",
     "text": [
      "6.0\n"
     ]
    }
   ],
   "source": [
    "#Conversão de Inteiro --> Decimal\n",
    "y = 6 \n",
    "x = float(y)\n",
    "print(x)"
   ]
  },
  {
   "cell_type": "code",
   "execution_count": 29,
   "id": "59ddc134-7c1a-4646-9662-c34aca0ceb83",
   "metadata": {},
   "outputs": [
    {
     "data": {
      "text/plain": [
       "float"
      ]
     },
     "execution_count": 29,
     "metadata": {},
     "output_type": "execute_result"
    }
   ],
   "source": [
    "type(x)"
   ]
  },
  {
   "cell_type": "code",
   "execution_count": 30,
   "id": "ccc45a42-4e62-4598-8884-21e48f6b8d08",
   "metadata": {},
   "outputs": [
    {
     "name": "stdout",
     "output_type": "stream",
     "text": [
      "6\n"
     ]
    }
   ],
   "source": [
    "#conversão de Decimal --> Inteiro\n",
    "y = int(x)\n",
    "x = 6.0\n",
    "print(y)"
   ]
  },
  {
   "cell_type": "code",
   "execution_count": 34,
   "id": "bbbbe7f7-ffd4-43a8-bc88-414cd7eac5db",
   "metadata": {},
   "outputs": [
    {
     "name": "stdout",
     "output_type": "stream",
     "text": [
      "7\n"
     ]
    }
   ],
   "source": [
    "#conversão arredondada:\n",
    "x = 6.7\n",
    "y = round(x)\n",
    "print(y)"
   ]
  },
  {
   "cell_type": "code",
   "execution_count": 37,
   "id": "2ac31b41-6424-402c-9d12-2e245d5abdd5",
   "metadata": {},
   "outputs": [
    {
     "name": "stdout",
     "output_type": "stream",
     "text": [
      "45\n"
     ]
    }
   ],
   "source": [
    "#Conversão de String --> Inteiro:\n",
    "num = \"45\"\n",
    "n = int(num)\n",
    "print(n)"
   ]
  },
  {
   "cell_type": "code",
   "execution_count": 38,
   "id": "2b58a50c-b186-4da9-b3ee-0d17bef716db",
   "metadata": {},
   "outputs": [
    {
     "data": {
      "text/plain": [
       "int"
      ]
     },
     "execution_count": 38,
     "metadata": {},
     "output_type": "execute_result"
    }
   ],
   "source": [
    "type(n)"
   ]
  },
  {
   "cell_type": "code",
   "execution_count": 39,
   "id": "974c849a-7610-4a74-a4a1-e2649dd9ce55",
   "metadata": {},
   "outputs": [
    {
     "name": "stdout",
     "output_type": "stream",
     "text": [
      "45.2\n"
     ]
    }
   ],
   "source": [
    "#Conversão de String --> Decimal\n",
    "num = \"45.2\"\n",
    "n = float(num)\n",
    "print(n)"
   ]
  },
  {
   "cell_type": "code",
   "execution_count": 40,
   "id": "4647595d-86f4-4ea4-9576-5ba6415bf82f",
   "metadata": {},
   "outputs": [
    {
     "data": {
      "text/plain": [
       "float"
      ]
     },
     "execution_count": 40,
     "metadata": {},
     "output_type": "execute_result"
    }
   ],
   "source": [
    "type(n)"
   ]
  },
  {
   "cell_type": "code",
   "execution_count": 42,
   "id": "a31ee3fa-fab6-4b86-8e68-1ef4104cbbdf",
   "metadata": {},
   "outputs": [
    {
     "name": "stdout",
     "output_type": "stream",
     "text": [
      "10\n"
     ]
    }
   ],
   "source": [
    "#Conversã de Inteiro --> String\n",
    "n = 10\n",
    "num = str(n)\n",
    "print(num)"
   ]
  },
  {
   "cell_type": "code",
   "execution_count": 43,
   "id": "4dc72e27-2a1a-4c61-b720-8a01d8d91371",
   "metadata": {},
   "outputs": [
    {
     "data": {
      "text/plain": [
       "str"
      ]
     },
     "execution_count": 43,
     "metadata": {},
     "output_type": "execute_result"
    }
   ],
   "source": [
    "type(num)"
   ]
  },
  {
   "cell_type": "code",
   "execution_count": 45,
   "id": "f95ae7e5-7f94-4d77-8fb2-928c35e74eb6",
   "metadata": {},
   "outputs": [
    {
     "name": "stdout",
     "output_type": "stream",
     "text": [
      "10.2\n"
     ]
    }
   ],
   "source": [
    "#Conversão de Decimal --> String\n",
    "n = 10.2\n",
    "num = str(n)\n",
    "print(num)"
   ]
  },
  {
   "cell_type": "code",
   "execution_count": 46,
   "id": "4b5916fb-126b-4169-a7ea-7e29153c08c5",
   "metadata": {},
   "outputs": [
    {
     "data": {
      "text/plain": [
       "str"
      ]
     },
     "execution_count": 46,
     "metadata": {},
     "output_type": "execute_result"
    }
   ],
   "source": [
    "type(num)"
   ]
  },
  {
   "cell_type": "code",
   "execution_count": 56,
   "id": "8c98efa7-d98b-47b4-80b4-385819a11079",
   "metadata": {},
   "outputs": [
    {
     "name": "stdin",
     "output_type": "stream",
     "text": [
      "digite um valor positivo maior que zero: 4\n",
      "digite uma frase é maior que zero\n"
     ]
    },
    {
     "name": "stdout",
     "output_type": "stream",
     "text": [
      "4.0 É MAIOR QUE ZERO\n"
     ]
    }
   ],
   "source": [
    "#DESAFIO DO MODULO:\n",
    "numero = int(input(\"digite um valor positivo maior que zero:\"))\n",
    "texto = input(\"digite uma frase\")\n",
    "x = float(numero)\n",
    "texto = texto.upper()\n",
    "print(x, texto)"
   ]
  },
  {
   "cell_type": "code",
   "execution_count": 57,
   "id": "049b6da2-f4a1-4109-abe4-31841a18da76",
   "metadata": {},
   "outputs": [
    {
     "data": {
      "text/plain": [
       "float"
      ]
     },
     "execution_count": 57,
     "metadata": {},
     "output_type": "execute_result"
    }
   ],
   "source": [
    "type(x)"
   ]
  },
  {
   "cell_type": "code",
   "execution_count": 63,
   "id": "c586d14d-5d61-41b8-8902-2916c2021607",
   "metadata": {},
   "outputs": [
    {
     "name": "stdout",
     "output_type": "stream",
     "text": [
      "14.5\n"
     ]
    }
   ],
   "source": [
    "#Linearização de expressões matemáticas:\n",
    "x = ((3*y) / (5*y+7) +(2*y))\n",
    "print(x)"
   ]
  },
  {
   "cell_type": "code",
   "execution_count": 67,
   "id": "f22c09de-3804-44c6-b7a9-764741a9ec9e",
   "metadata": {},
   "outputs": [
    {
     "name": "stdin",
     "output_type": "stream",
     "text": [
      "Digite sua idade: 19\n"
     ]
    },
    {
     "name": "stdout",
     "output_type": "stream",
     "text": [
      "Parabéns! você já é maior de idade!\n"
     ]
    }
   ],
   "source": [
    "#Estrutura Condicional\n",
    "idade = int(input(\"Digite sua idade:\"))\n",
    "if idade >= 18:\n",
    "    print(\"Parabéns! você já é maior de idade!\")\n",
    "else:\n",
    "    print(\"Espere mais um pouco! Logo você será maior de idade!\")\n"
   ]
  },
  {
   "cell_type": "code",
   "execution_count": 68,
   "id": "dfa81efd-3576-4e39-9865-7d430b6e00de",
   "metadata": {},
   "outputs": [
    {
     "name": "stdin",
     "output_type": "stream",
     "text": [
      "Digite sua idade: 17\n"
     ]
    },
    {
     "name": "stdout",
     "output_type": "stream",
     "text": [
      "Espere mais um pouco! Logo você será maior de idade!\n"
     ]
    }
   ],
   "source": [
    "idade = int(input(\"Digite sua idade:\"))\n",
    "if idade >= 18:\n",
    "    print(\"Parabéns! você já é maior de idade!\")\n",
    "else:\n",
    "    print(\"Espere mais um pouco! Logo você será maior de idade!\")"
   ]
  },
  {
   "cell_type": "code",
   "execution_count": 71,
   "id": "786c2277-44e6-416c-84a9-206c7006b60d",
   "metadata": {},
   "outputs": [
    {
     "name": "stdin",
     "output_type": "stream",
     "text": [
      "Digite sua primeira nota: 8.5\n",
      "Digite sua segunda nota: 6.8\n"
     ]
    },
    {
     "name": "stdout",
     "output_type": "stream",
     "text": [
      "APROVADO!\n"
     ]
    }
   ],
   "source": [
    "#exemplo 2\n",
    "nota1 = float(input(\"Digite sua primeira nota:\"))\n",
    "nota2 = float(input(\"Digite sua segunda nota:\"))\n",
    "media = (nota1+nota2) / 2\n",
    "if (media >=5) :\n",
    "    print(\"APROVADO!\")\n",
    "else:\n",
    "    print(\"REPROVADO!!!!!!!!!!\")"
   ]
  },
  {
   "cell_type": "code",
   "execution_count": 72,
   "id": "320d3672-eee7-4000-9d85-b00b8c276d79",
   "metadata": {},
   "outputs": [
    {
     "name": "stdin",
     "output_type": "stream",
     "text": [
      "Digite sua primeira nota: 2\n",
      "Digite sua segunda nota: 1.3\n"
     ]
    },
    {
     "name": "stdout",
     "output_type": "stream",
     "text": [
      "REPROVADO!!!!!!!!!!\n"
     ]
    }
   ],
   "source": [
    "nota1 = float(input(\"Digite sua primeira nota:\"))\n",
    "nota2 = float(input(\"Digite sua segunda nota:\"))\n",
    "media = (nota1+nota2) / 2\n",
    "if (media >=5) :\n",
    "    print(\"APROVADO!\")\n",
    "else:\n",
    "    print(\"REPROVADO!!!!!!!!!!\")"
   ]
  },
  {
   "cell_type": "code",
   "execution_count": 73,
   "id": "9be44c60-ee21-43a3-b000-72996906c4d3",
   "metadata": {},
   "outputs": [
    {
     "name": "stdin",
     "output_type": "stream",
     "text": [
      "Digite um número: 4\n"
     ]
    },
    {
     "name": "stdout",
     "output_type": "stream",
     "text": [
      "O número é positivo.\n"
     ]
    }
   ],
   "source": [
    "#exemplo 3\n",
    "num = int(input(\"Digite um número:\"))\n",
    "if (num >=0):\n",
    "    print(\"O número é positivo.\")"
   ]
  },
  {
   "cell_type": "code",
   "execution_count": 74,
   "id": "b52447ea-20e2-4547-a487-42cf40604d7a",
   "metadata": {},
   "outputs": [
    {
     "name": "stdin",
     "output_type": "stream",
     "text": [
      "Digite um número: -1\n"
     ]
    }
   ],
   "source": [
    "num = int(input(\"Digite um número:\"))\n",
    "if (num >=0):\n",
    "    print(\"O número é positivo.\")"
   ]
  },
  {
   "cell_type": "code",
   "execution_count": 81,
   "id": "eb123f95-86a0-491c-b794-4e09a322da46",
   "metadata": {},
   "outputs": [
    {
     "name": "stdin",
     "output_type": "stream",
     "text": [
      "Digite sua nota: 8\n"
     ]
    },
    {
     "name": "stdout",
     "output_type": "stream",
     "text": [
      "Nota final:  8.5\n"
     ]
    }
   ],
   "source": [
    "#Exemplo 4\n",
    "nota = float(input(\"Digite sua nota:\"))\n",
    "if (nota >7):\n",
    "    nota = nota + 0.5\n",
    "print(\"Nota final: \", nota)"
   ]
  },
  {
   "cell_type": "code",
   "execution_count": 82,
   "id": "1b43daaf-2c32-46ef-8f0e-0f2b2daf5f22",
   "metadata": {},
   "outputs": [
    {
     "name": "stdin",
     "output_type": "stream",
     "text": [
      "Digite sua nota: 4\n"
     ]
    },
    {
     "name": "stdout",
     "output_type": "stream",
     "text": [
      "Nota final:  4.0\n"
     ]
    }
   ],
   "source": [
    "nota = float(input(\"Digite sua nota:\"))\n",
    "if (nota >7):\n",
    "    nota = nota + 0.5\n",
    "print(\"Nota final: \", nota)"
   ]
  },
  {
   "cell_type": "code",
   "execution_count": 89,
   "id": "01fb01dc-a67b-4b54-8904-9a166650ea0c",
   "metadata": {},
   "outputs": [
    {
     "name": "stdin",
     "output_type": "stream",
     "text": [
      "Nota: 0.3\n"
     ]
    },
    {
     "name": "stdout",
     "output_type": "stream",
     "text": [
      "Conceito F\n"
     ]
    }
   ],
   "source": [
    "#Comando elif\n",
    "nota = float(input(\"Nota:\"))\n",
    "if (nota<0) or (nota >1):\n",
    "    print(\"Entrada incorreta\")\n",
    "elif nota >=0.9:\n",
    "    print(\"Conceito A\")\n",
    "elif nota >=0.8:\n",
    "    print(\"Conceito B\")\n",
    "elif nota >= 0.7:\n",
    "    print(\"Conceito C\")\n",
    "elif nota >= 0.6:\n",
    "    print(\"conceito D\")\n",
    "else:\n",
    "    print(\"Conceito F\")"
   ]
  },
  {
   "cell_type": "code",
   "execution_count": 94,
   "id": "9bbdb85d-44f1-4122-9c25-8598a62a33b7",
   "metadata": {},
   "outputs": [
    {
     "name": "stdin",
     "output_type": "stream",
     "text": [
      "Digite o nome da fruta:  melão\n"
     ]
    },
    {
     "name": "stdout",
     "output_type": "stream",
     "text": [
      "ops! não temos essa fruta no momento :(\n"
     ]
    }
   ],
   "source": [
    "#exemplo 2\n",
    "fruta = input(\"Digite o nome da fruta: \")\n",
    "if (fruta == \"banana\"):\n",
    "    print(\"O quilo da Banana está: R$5,23\")\n",
    "elif (fruta == \"maça\"):\n",
    "    print(\"O quilo da maçã está: R$12.10\")\n",
    "elif (fruta == \"cereja\"):\n",
    "    print(\"O quilo da cereja está: R$58,00\")\n",
    "else:\n",
    "    print(\"ops! não temos essa fruta no momento :(\")"
   ]
  },
  {
   "cell_type": "code",
   "execution_count": 95,
   "id": "ca5b5df7-f29a-4781-b110-132bb3d0d1af",
   "metadata": {},
   "outputs": [
    {
     "name": "stdin",
     "output_type": "stream",
     "text": [
      "Digite o nome da fruta:  banana\n"
     ]
    },
    {
     "name": "stdout",
     "output_type": "stream",
     "text": [
      "O quilo da Banana está: R$5,23\n"
     ]
    }
   ],
   "source": [
    "#exemplo 2\n",
    "fruta = input(\"Digite o nome da fruta: \")\n",
    "if (fruta == \"banana\"):\n",
    "    print(\"O quilo da Banana está: R$5,23\")\n",
    "elif (fruta == \"maça\"):\n",
    "    print(\"O quilo da maçã está: R$12.10\")\n",
    "elif (fruta == \"cereja\"):\n",
    "    print(\"O quilo da cereja está: R$58,00\")\n",
    "else:\n",
    "    print(\"ops! não temos essa fruta no momento :(\")"
   ]
  },
  {
   "cell_type": "code",
   "execution_count": 1,
   "id": "de88fc3f-4b3f-416d-856e-b75c06e51d14",
   "metadata": {},
   "outputs": [
    {
     "name": "stdin",
     "output_type": "stream",
     "text": [
      "Digite um número inteiro qualquer: 4\n"
     ]
    },
    {
     "name": "stdout",
     "output_type": "stream",
     "text": [
      "4 é par positivo\n"
     ]
    }
   ],
   "source": [
    "#if aninhado:\n",
    "num = int(input(\"Digite um número inteiro qualquer:\"))\n",
    "if (num >= 0):\n",
    "    if (num % 2) == 0:\n",
    "        print(num, \"é par positivo\")\n",
    "    else:\n",
    "        print(num, \"é impar positivo\")\n",
    "else:\n",
    "    if (abs(num) %2) == 0:\n",
    "        print(num, \"é par negativo\")\n",
    "    else:\n",
    "        print(num, \"é impar negativo\")"
   ]
  },
  {
   "cell_type": "code",
   "execution_count": 2,
   "id": "315c18b6-a310-43bd-b766-ff0946891516",
   "metadata": {},
   "outputs": [
    {
     "name": "stdin",
     "output_type": "stream",
     "text": [
      "Digite um número inteiro qualquer: 7\n"
     ]
    },
    {
     "name": "stdout",
     "output_type": "stream",
     "text": [
      "7 é impar positivo\n"
     ]
    }
   ],
   "source": [
    "#if aninhado:\n",
    "num = int(input(\"Digite um número inteiro qualquer:\"))\n",
    "if (num >= 0):\n",
    "    if (num % 2) == 0:\n",
    "        print(num, \"é par positivo\")\n",
    "    else:\n",
    "        print(num, \"é impar positivo\")\n",
    "else:\n",
    "    if (abs(num) %2) == 0:\n",
    "        print(num, \"é par negativo\")\n",
    "    else:\n",
    "        print(num, \"é impar negativo\")"
   ]
  },
  {
   "cell_type": "code",
   "execution_count": 3,
   "id": "7da5c512-3f57-41e1-9ff3-9c46fe225f67",
   "metadata": {},
   "outputs": [
    {
     "name": "stdin",
     "output_type": "stream",
     "text": [
      "Digite um número inteiro qualquer: -4\n"
     ]
    },
    {
     "name": "stdout",
     "output_type": "stream",
     "text": [
      "-4 é par negativo\n"
     ]
    }
   ],
   "source": [
    "#if aninhado:\n",
    "num = int(input(\"Digite um número inteiro qualquer:\"))\n",
    "if (num >= 0):\n",
    "    if (num % 2) == 0:\n",
    "        print(num, \"é par positivo\")\n",
    "    else:\n",
    "        print(num, \"é impar positivo\")\n",
    "else:\n",
    "    if (abs(num) %2) == 0:\n",
    "        print(num, \"é par negativo\")\n",
    "    else:\n",
    "        print(num, \"é impar negativo\")"
   ]
  },
  {
   "cell_type": "code",
   "execution_count": 4,
   "id": "a023c327-f5cb-4a72-bae8-ca0f75221cb2",
   "metadata": {},
   "outputs": [
    {
     "name": "stdin",
     "output_type": "stream",
     "text": [
      "Digite um número inteiro qualquer: -7\n"
     ]
    },
    {
     "name": "stdout",
     "output_type": "stream",
     "text": [
      "-7 é impar negativo\n"
     ]
    }
   ],
   "source": [
    "#if aninhado:\n",
    "num = int(input(\"Digite um número inteiro qualquer:\"))\n",
    "if (num >= 0):\n",
    "    if (num % 2) == 0:\n",
    "        print(num, \"é par positivo\")\n",
    "    else:\n",
    "        print(num, \"é impar positivo\")\n",
    "else:\n",
    "    if (abs(num) %2) == 0:\n",
    "        print(num, \"é par negativo\")\n",
    "    else:\n",
    "        print(num, \"é impar negativo\")"
   ]
  },
  {
   "cell_type": "code",
   "execution_count": 13,
   "id": "d007f0cc-31fe-4acc-9dbd-f96040bcb91e",
   "metadata": {},
   "outputs": [
    {
     "name": "stdin",
     "output_type": "stream",
     "text": [
      "Digite sua idade:  1\n"
     ]
    },
    {
     "name": "stdout",
     "output_type": "stream",
     "text": [
      "Essa idade não entra nas categorias (menor de 5 anos)\n"
     ]
    }
   ],
   "source": [
    "idade = int(input(\"Digite sua idade: \"))\n",
    "\n",
    "# Verifica a faixa etária e exibe a categoria correspondente\n",
    "if 5 <= idade <= 7:\n",
    "    print(\"Essa categoria é: Infantil\")\n",
    "elif 8 <= idade <= 10:\n",
    "    print(\"Essa categoria é: Juvenil\")\n",
    "elif 11 <= idade <= 15:\n",
    "    print(\"Essa categoria é: Adolescente\")\n",
    "elif 16 <= idade <= 30:\n",
    "    print(\"Essa categoria é: Adulto\")\n",
    "elif idade > 30:\n",
    "    print(\"Essa categoria é: Sênior\")\n",
    "else:\n",
    "    print(\"Essa idade não entra nas categorias (menor de 5 anos)\")"
   ]
  },
  {
   "cell_type": "code",
   "execution_count": 14,
   "id": "a99ef026-4385-468f-b98f-c1280b300cb4",
   "metadata": {},
   "outputs": [
    {
     "name": "stdin",
     "output_type": "stream",
     "text": [
      "Digite sua idade:  7\n"
     ]
    },
    {
     "name": "stdout",
     "output_type": "stream",
     "text": [
      "Essa categoria é: Infantil\n"
     ]
    }
   ],
   "source": [
    "idade = int(input(\"Digite sua idade: \"))\n",
    "\n",
    "# Verifica a faixa etária e exibe a categoria correspondente\n",
    "if 5 <= idade <= 7:\n",
    "    print(\"Essa categoria é: Infantil\")\n",
    "elif 8 <= idade <= 10:\n",
    "    print(\"Essa categoria é: Juvenil\")\n",
    "elif 11 <= idade <= 15:\n",
    "    print(\"Essa categoria é: Adolescente\")\n",
    "elif 16 <= idade <= 30:\n",
    "    print(\"Essa categoria é: Adulto\")\n",
    "elif idade > 30:\n",
    "    print(\"Essa categoria é: Sênior\")\n",
    "else:\n",
    "    print(\"Essa idade não entra nas categorias (menor de 5 anos)\")\n"
   ]
  },
  {
   "cell_type": "code",
   "execution_count": 15,
   "id": "3f24b3e2-d63e-4be8-8a80-1f65d5a633f5",
   "metadata": {},
   "outputs": [
    {
     "name": "stdin",
     "output_type": "stream",
     "text": [
      "Digite sua idade:  11\n"
     ]
    },
    {
     "name": "stdout",
     "output_type": "stream",
     "text": [
      "Essa categoria é: Adolescente\n"
     ]
    }
   ],
   "source": [
    "idade = int(input(\"Digite sua idade: \"))\n",
    "\n",
    "# Verifica a faixa etária e exibe a categoria correspondente\n",
    "if 5 <= idade <= 7:\n",
    "    print(\"Essa categoria é: Infantil\")\n",
    "elif 8 <= idade <= 10:\n",
    "    print(\"Essa categoria é: Juvenil\")\n",
    "elif 11 <= idade <= 15:\n",
    "    print(\"Essa categoria é: Adolescente\")\n",
    "elif 16 <= idade <= 30:\n",
    "    print(\"Essa categoria é: Adulto\")\n",
    "elif idade > 30:\n",
    "    print(\"Essa categoria é: Sênior\")\n",
    "else:\n",
    "    print(\"Essa idade não entra nas categorias (menor de 5 anos)\")"
   ]
  },
  {
   "cell_type": "code",
   "execution_count": 16,
   "id": "6fc2d8f0-6029-42d9-a480-d463b297eb0d",
   "metadata": {},
   "outputs": [
    {
     "name": "stdin",
     "output_type": "stream",
     "text": [
      "Digite sua idade:  16\n"
     ]
    },
    {
     "name": "stdout",
     "output_type": "stream",
     "text": [
      "Essa categoria é: Adulto\n"
     ]
    }
   ],
   "source": [
    "idade = int(input(\"Digite sua idade: \"))\n",
    "\n",
    "# Verifica a faixa etária e exibe a categoria correspondente\n",
    "if 5 <= idade <= 7:\n",
    "    print(\"Essa categoria é: Infantil\")\n",
    "elif 8 <= idade <= 10:\n",
    "    print(\"Essa categoria é: Juvenil\")\n",
    "elif 11 <= idade <= 15:\n",
    "    print(\"Essa categoria é: Adolescente\")\n",
    "elif 16 <= idade <= 30:\n",
    "    print(\"Essa categoria é: Adulto\")\n",
    "elif idade > 30:\n",
    "    print(\"Essa categoria é: Sênior\")\n",
    "else:\n",
    "    print(\"Essa idade não entra nas categorias (menor de 5 anos)\")"
   ]
  },
  {
   "cell_type": "code",
   "execution_count": 17,
   "id": "df6c304e-9231-4931-9837-08968fd7481a",
   "metadata": {},
   "outputs": [
    {
     "name": "stdin",
     "output_type": "stream",
     "text": [
      "Digite sua idade:  54\n"
     ]
    },
    {
     "name": "stdout",
     "output_type": "stream",
     "text": [
      "Essa categoria é: Sênior\n"
     ]
    }
   ],
   "source": [
    "idade = int(input(\"Digite sua idade: \"))\n",
    "\n",
    "# Verifica a faixa etária e exibe a categoria correspondente\n",
    "if 5 <= idade <= 7:\n",
    "    print(\"Essa categoria é: Infantil\")\n",
    "elif 8 <= idade <= 10:\n",
    "    print(\"Essa categoria é: Juvenil\")\n",
    "elif 11 <= idade <= 15:\n",
    "    print(\"Essa categoria é: Adolescente\")\n",
    "elif 16 <= idade <= 30:\n",
    "    print(\"Essa categoria é: Adulto\")\n",
    "elif idade > 30:\n",
    "    print(\"Essa categoria é: Sênior\")\n",
    "else:\n",
    "    print(\"Essa idade não entra nas categorias (menor de 5 anos)\")"
   ]
  },
  {
   "cell_type": "code",
   "execution_count": 20,
   "id": "279daf79-4670-47dd-a115-42aaf5e57b25",
   "metadata": {},
   "outputs": [
    {
     "name": "stdin",
     "output_type": "stream",
     "text": [
      "Digite um número inteiro positivo: 4\n"
     ]
    },
    {
     "name": "stdout",
     "output_type": "stream",
     "text": [
      "4 esse número é um par positivo\n"
     ]
    }
   ],
   "source": [
    "#exercicio 2\n",
    "n = int(input(\"Digite um número inteiro positivo:\"))\n",
    "if (n > 0):\n",
    "    if (n % 2) ==0:\n",
    "        print(n, \"esse número é um par positivo\")\n",
    "    else:\n",
    "        print(n, \"esse número é um impar positivo\")\n",
    "else:\n",
    "    print(\"Esse valor não é inteiro\")\n",
    "    "
   ]
  },
  {
   "cell_type": "code",
   "execution_count": 21,
   "id": "6a41d420-ebaf-4471-a9c1-774e786adef5",
   "metadata": {},
   "outputs": [
    {
     "name": "stdin",
     "output_type": "stream",
     "text": [
      "Digite um número inteiro positivo: 7\n"
     ]
    },
    {
     "name": "stdout",
     "output_type": "stream",
     "text": [
      "7 esse número é um impar positivo\n"
     ]
    }
   ],
   "source": [
    "#exercicio 2\n",
    "n = int(input(\"Digite um número inteiro positivo:\"))\n",
    "if (n > 0):\n",
    "    if (n % 2) ==0:\n",
    "        print(n, \"esse número é um par positivo\")\n",
    "    else:\n",
    "        print(n, \"esse número é um impar positivo\")\n",
    "else:\n",
    "    print(\"Esse valor não é inteiro\")\n",
    "    "
   ]
  },
  {
   "cell_type": "code",
   "execution_count": 22,
   "id": "4b2f8923-aa2a-47aa-b98b-e35ee0b8349f",
   "metadata": {},
   "outputs": [
    {
     "name": "stdin",
     "output_type": "stream",
     "text": [
      "Digite um número inteiro positivo: -1\n"
     ]
    },
    {
     "name": "stdout",
     "output_type": "stream",
     "text": [
      "Esse valor não é inteiro\n"
     ]
    }
   ],
   "source": [
    "#exercicio 2\n",
    "n = int(input(\"Digite um número inteiro positivo:\"))\n",
    "if (n > 0):\n",
    "    if (n % 2) ==0:\n",
    "        print(n, \"esse número é um par positivo\")\n",
    "    else:\n",
    "        print(n, \"esse número é um impar positivo\")\n",
    "else:\n",
    "    print(\"Esse valor não é inteiro\")\n",
    "    "
   ]
  },
  {
   "cell_type": "code",
   "execution_count": 27,
   "id": "ab393ffd-c145-46ad-9471-247def75051b",
   "metadata": {},
   "outputs": [
    {
     "name": "stdin",
     "output_type": "stream",
     "text": [
      "Digite seu genero <F ou M>: F\n",
      "qual sua altura? 1.55\n"
     ]
    },
    {
     "name": "stdout",
     "output_type": "stream",
     "text": [
      "O seu peso ideal é: 51.55500000000001\n"
     ]
    }
   ],
   "source": [
    "#exercicio 3\n",
    "genero = input(\"Digite seu genero <F ou M>:\")\n",
    "altura = float(input(\"qual sua altura?\"))\n",
    "if (genero == \"M\"):\n",
    "    peso = (72.2 * altura) -58\n",
    "else:\n",
    "    peso = (62.1 *altura) - 44.7\n",
    "print(\"O seu peso ideal é:\", peso)"
   ]
  },
  {
   "cell_type": "code",
   "execution_count": 29,
   "id": "af947d78-a965-4d88-8f3c-801ed3db1352",
   "metadata": {},
   "outputs": [
    {
     "name": "stdin",
     "output_type": "stream",
     "text": [
      "Digite seu genero <F ou M>: m\n",
      "qual sua altura? 1.74\n"
     ]
    },
    {
     "name": "stdout",
     "output_type": "stream",
     "text": [
      "O seu peso ideal é: 63.354\n"
     ]
    }
   ],
   "source": [
    "#exercicio 3\n",
    "genero = input(\"Digite seu genero <F ou M>:\")\n",
    "altura = float(input(\"qual sua altura?\"))\n",
    "if (genero == \"M\"):\n",
    "    peso = (72.2 * altura) -58\n",
    "else:\n",
    "    peso = (62.1 *altura) - 44.7\n",
    "print(\"O seu peso ideal é:\", peso)"
   ]
  },
  {
   "cell_type": "code",
   "execution_count": 39,
   "id": "0ef68f2d-a827-4bfc-8e23-dc1bc97e6ed1",
   "metadata": {},
   "outputs": [
    {
     "name": "stdin",
     "output_type": "stream",
     "text": [
      "Entre com a idade 1 : 45\n",
      "Entre com a idade 2 : 18\n",
      "Entre com a idade 3 : 23\n",
      "Entre com a idade 4 : 34\n",
      "Entre com a idade 5 : 43\n"
     ]
    },
    {
     "name": "stdout",
     "output_type": "stream",
     "text": [
      "A media das idades é:  32.6\n"
     ]
    }
   ],
   "source": [
    "#comando for in range\n",
    "soma = 0\n",
    "for i in range(1,6):\n",
    "    idade = int(input(f\"Entre com a idade {i} :\"))\n",
    "    soma = soma + idade\n",
    "media = soma / 5\n",
    "print(\"A media das idades é: \", media)"
   ]
  },
  {
   "cell_type": "code",
   "execution_count": 40,
   "id": "97c44cd1-cef7-4438-8703-8624932274a9",
   "metadata": {},
   "outputs": [
    {
     "name": "stdout",
     "output_type": "stream",
     "text": [
      "f\n",
      "r\n",
      "a\n",
      "s\n",
      "e\n"
     ]
    }
   ],
   "source": [
    "#exemplo\n",
    "for caracter in \"frase\":\n",
    "    print(caracter)"
   ]
  },
  {
   "cell_type": "code",
   "execution_count": 55,
   "id": "218d4d25-315b-4ea8-b601-74e595698791",
   "metadata": {},
   "outputs": [
    {
     "ename": "SyntaxError",
     "evalue": "unterminated f-string literal (detected at line 14) (1117054361.py, line 14)",
     "output_type": "error",
     "traceback": [
      "\u001b[1;36m  Cell \u001b[1;32mIn[55], line 14\u001b[1;36m\u001b[0m\n\u001b[1;33m    print(f\"A quantidade das {qtd} idades é {media})\u001b[0m\n\u001b[1;37m          ^\u001b[0m\n\u001b[1;31mSyntaxError\u001b[0m\u001b[1;31m:\u001b[0m unterminated f-string literal (detected at line 14)\n"
     ]
    }
   ],
   "source": [
    "#comando while\n",
    "idade = 0\n",
    "soma = 0\n",
    "qtd = 0\n",
    "while idade != 1000:\n",
    "    idade = int(input(f\"Digite a idade {qtd + 1} :\"))\n",
    "if idade != 1000:\n",
    "    soma += idade  # soma = soma + idade\n",
    "    qtd += 1 # qtd = qtd + 1\n",
    "if qtd == 0:\n",
    "    print(\"Não foi digitada idade alguma\")\n",
    "else:\n",
    "    media = soma / qtd\n",
    "    print(f\"A quantidade das {qtd} idades é {media})\n",
    "\n",
    "#esse script n está correto e to com preguiça d corrigir"
   ]
  },
  {
   "cell_type": "code",
   "execution_count": 58,
   "id": "2e249511-c85a-4ba1-9c79-5f2ba4ed9e79",
   "metadata": {},
   "outputs": [
    {
     "name": "stdout",
     "output_type": "stream",
     "text": [
      "1 x 8 = 8\n",
      "2 x 8 = 16\n",
      "3 x 8 = 24\n",
      "4 x 8 = 32\n",
      "5 x 8 = 40\n",
      "6 x 8 = 48\n",
      "7 x 8 = 56\n",
      "8 x 8 = 64\n",
      "9 x 8 = 72\n",
      "10 x 8 = 80\n"
     ]
    }
   ],
   "source": [
    "#ex \n",
    "i = 1\n",
    "while i<11:\n",
    "    print(f\"{i} x 8 = {i * 8}\")\n",
    "    i += 1\n",
    "    "
   ]
  },
  {
   "cell_type": "code",
   "execution_count": 63,
   "id": "95ca0d6f-ee6b-422b-aa5e-219c10dd8aa6",
   "metadata": {},
   "outputs": [
    {
     "name": "stdout",
     "output_type": "stream",
     "text": [
      "O ultimo valor de n é 0 .\n",
      "O ultimo valor de n é 1 .\n",
      "O ultimo valor de n é 2 .\n",
      "O ultimo valor de n é 3 .\n",
      "O ultimo valor de n é 4 .\n",
      "O ultimo valor de n é 5 .\n"
     ]
    }
   ],
   "source": [
    "# comando break \n",
    "n = 0\n",
    "while True:\n",
    "    print(f\"O ultimo valor de n é {n} .\")\n",
    "    n += 1 \n",
    "    if n > 5:\n",
    "        break "
   ]
  },
  {
   "cell_type": "code",
   "execution_count": null,
   "id": "ebbf4e2a-f340-4670-be0a-68d621392b6d",
   "metadata": {},
   "outputs": [],
   "source": [
    "n = 0\n",
    "\n",
    "while True:\n",
    "    if n == 4:\n",
    "        n += 1\n",
    "        continue\n",
    "\n",
    "    print(f\"O valor de n é {n}\")\n",
    "    n += 1\n",
    "\n",
    "    if n > 9:\n",
    "        break"
   ]
  },
  {
   "cell_type": "code",
   "execution_count": null,
   "id": "be53c1e6-8506-4a5d-b273-4f409c8710b6",
   "metadata": {},
   "outputs": [],
   "source": [
    "# exercicio\n",
    "n = int(input(\"Digite um numero inteiro:\"))\n",
    "soma = 0\n",
    "for digito in n:\n",
    "    soma = soma + in(digito)\n",
    "    print (\"A soma é igual: \", soma)\n",
    "    "
   ]
  },
  {
   "cell_type": "code",
   "execution_count": null,
   "id": "dc0390be-e744-4cea-a110-201e62fa8320",
   "metadata": {},
   "outputs": [],
   "source": []
  }
 ],
 "metadata": {
  "kernelspec": {
   "display_name": "Python 3 (ipykernel)",
   "language": "python",
   "name": "python3"
  },
  "language_info": {
   "codemirror_mode": {
    "name": "ipython",
    "version": 3
   },
   "file_extension": ".py",
   "mimetype": "text/x-python",
   "name": "python",
   "nbconvert_exporter": "python",
   "pygments_lexer": "ipython3",
   "version": "3.12.7"
  }
 },
 "nbformat": 4,
 "nbformat_minor": 5
}
