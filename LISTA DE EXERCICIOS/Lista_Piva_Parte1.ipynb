{
 "cells": [
  {
   "cell_type": "code",
   "execution_count": 8,
   "id": "b2da54b9-cdb3-42d9-97c3-f0990273245f",
   "metadata": {
    "id": "b2da54b9-cdb3-42d9-97c3-f0990273245f"
   },
   "outputs": [
    {
     "name": "stdin",
     "output_type": "stream",
     "text": [
      "Digite um número inteiro qualquer: 58\n"
     ]
    },
    {
     "name": "stdout",
     "output_type": "stream",
     "text": [
      "58 é par positivo\n"
     ]
    }
   ],
   "source": [
    "#Exercicio 0. Faça um algoritmo para ler um número e mostrar se ele é par ou impar, positivo ou negativo.\n",
    "\n",
    "num = int(input(\"Digite um número inteiro qualquer:\"))\n",
    "if (num >= 0):\n",
    "    if (num % 2) == 0:\n",
    "        print(num, \"é par positivo\")\n",
    "    else:\n",
    "        print(num, \"é impar positivo\")\n",
    "else:\n",
    "    if (abs(num) %2) == 0:\n",
    "        print(num, \"é par negativo\")\n",
    "    else:\n",
    "        print(num, \"é impar negativo\")"
   ]
  },
  {
   "cell_type": "code",
   "execution_count": null,
   "id": "4b88b7a9-d1b3-4a43-87f9-33bc59af86f7",
   "metadata": {
    "id": "4b88b7a9-d1b3-4a43-87f9-33bc59af86f7"
   },
   "outputs": [],
   "source": [
    "#\n",
    "num = int(input(\"Digite um número inteiro:\"))\n",
    "if (num >= 0):\n",
    "    if (num % 2) == 0:\n",
    "        print(f\"{num} é um número par\")\n",
    "    else:\n",
    "        print(f\"{num} é um número impar\")\n",
    "else:\n",
    "    if (num < 0):\n",
    "        print(f\"{num} é um numero negativo\")\n",
    "    else:\n",
    "        print(f\"{num} é um número positivo\")\n"
   ]
  },
  {
   "cell_type": "code",
   "execution_count": 7,
   "id": "c9178211-70f8-461d-9300-121949b60cc7",
   "metadata": {
    "id": "c9178211-70f8-461d-9300-121949b60cc7"
   },
   "outputs": [
    {
     "name": "stdin",
     "output_type": "stream",
     "text": [
      "Digite um número: 45\n",
      "Digite um número: 54\n"
     ]
    },
    {
     "name": "stdout",
     "output_type": "stream",
     "text": [
      "54 é maior que 45\n"
     ]
    }
   ],
   "source": [
    "#Exercicio 1.\n",
    "num1 = int(input(\"Digite um número:\"))\n",
    "num2 = int(input(\"Digite um número:\"))\n",
    "if num1 > num2:\n",
    "  print(f\"{num1} é maior que {num2}\")\n",
    "else:\n",
    "  print(f\"{num2} é maior que {num1}\")"
   ]
  },
  {
   "cell_type": "code",
   "execution_count": 6,
   "id": "7tlPqBkUzErI",
   "metadata": {
    "id": "7tlPqBkUzErI"
   },
   "outputs": [
    {
     "name": "stdin",
     "output_type": "stream",
     "text": [
      "Digite um número: 25\n"
     ]
    },
    {
     "name": "stdout",
     "output_type": "stream",
     "text": [
      "25 é positivo\n"
     ]
    }
   ],
   "source": [
    "#Exercicio 2.\n",
    "num = int(input(\"Digite um número:\"))\n",
    "if num >= 0:\n",
    "  print(f\"{num} é positivo\")\n",
    "else:\n",
    "  print(f\"{num} é negativo\")\n"
   ]
  },
  {
   "cell_type": "code",
   "execution_count": 5,
   "id": "IjPdui52057S",
   "metadata": {
    "id": "IjPdui52057S"
   },
   "outputs": [
    {
     "name": "stdin",
     "output_type": "stream",
     "text": [
      "Digite uma letra: A\n"
     ]
    },
    {
     "name": "stdout",
     "output_type": "stream",
     "text": [
      "A é uma vogal\n"
     ]
    }
   ],
   "source": [
    "#Exercicio 3.\n",
    "letra = input(\"Digite uma letra:\")\n",
    "if letra == \"a\" or letra == \"e\" or letra == \"i\" or letra == \"o\" or letra == \"u\":\n",
    "  print(f\"{letra} é uma vogal\")\n",
    "elif letra == \"A\" or letra == \"E\" or letra == \"I\" or letra ==  \"O\" or letra == \"u\":\n",
    "    print(f\"{letra} é uma vogal\")\n",
    "else:\n",
    "  print(f\"{letra} é igual uma consoante\")"
   ]
  },
  {
   "cell_type": "code",
   "execution_count": null,
   "id": "rB666m3V4BAr",
   "metadata": {
    "id": "rB666m3V4BAr"
   },
   "outputs": [],
   "source": [
    "# Resposta do professor\n",
    "letra = input('Informe uma letra: ')\n",
    "\n",
    "if ('AEIOU'.find(letra.upper()) >= 0):\n",
    "    print('VOGAL')\n",
    "else:\n",
    "    print('CONSOANTE') ## Achei sacanagem que o meu script ficou longo sendo que esse aqui era bem mais fácil, vou usar essa forma a partir de agora."
   ]
  },
  {
   "cell_type": "code",
   "execution_count": 4,
   "id": "FgXWA9ki7YeV",
   "metadata": {
    "id": "FgXWA9ki7YeV"
   },
   "outputs": [
    {
     "name": "stdin",
     "output_type": "stream",
     "text": [
      "Digite a primeira nota: 10\n",
      "Digite a segunda nota: 5\n"
     ]
    },
    {
     "name": "stdout",
     "output_type": "stream",
     "text": [
      "Aprovado\n"
     ]
    }
   ],
   "source": [
    "#Exercicio 4.\n",
    "nota1 = float(input(\"Digite a primeira nota:\"))\n",
    "nota2 = float(input(\"Digite a segunda nota:\"))\n",
    "media = (nota1 + nota2) / 2\n",
    "if media >= 10:\n",
    "  print(\"Aprovado com distinção\")\n",
    "elif media >= 7:\n",
    "    print(\"Aprovado\")\n",
    "else:\n",
    "  print(\"REPROVADO!!!\")"
   ]
  },
  {
   "cell_type": "code",
   "execution_count": 3,
   "id": "HblrfFUn9xMG",
   "metadata": {
    "id": "HblrfFUn9xMG"
   },
   "outputs": [
    {
     "name": "stdin",
     "output_type": "stream",
     "text": [
      "Digite o preço do produto:  50\n",
      "Digite o preço do produto:  40\n",
      "Digite o preço do produto:  30\n"
     ]
    },
    {
     "name": "stdout",
     "output_type": "stream",
     "text": [
      "o produto com preço 30.0 é o mais barato\n"
     ]
    }
   ],
   "source": [
    "#Exercicio 5.\n",
    "produto1 = float(input(\"Digite o preço do produto: \"))\n",
    "produto2 = float(input(\"Digite o preço do produto: \"))\n",
    "produto3 = float(input(\"Digite o preço do produto: \"))\n",
    "if (produto1 == produto2) and (produto2 == produto3):\n",
    "  print(\"Qualquer produto pode ser levado\")\n",
    "elif (produto1 < produto2) and (produto1 < produto3):\n",
    "  print(f\"o produto com preço {produto1} é o mais barato\")\n",
    "elif (produto2 < produto1) and (produto2 < produto3):\n",
    "  print(f\"o produto com preço {produto2} é o mais barato\")\n",
    "else:\n",
    "  print(f\"o produto com preço {produto3} é o mais barato\")"
   ]
  },
  {
   "cell_type": "code",
   "execution_count": null,
   "id": "IN6G_ASnA56w",
   "metadata": {
    "id": "IN6G_ASnA56w"
   },
   "outputs": [],
   "source": [
    "#\n",
    "num1 = int(input(\"Digite um número: \"))\n",
    "num2 = int(input(\"Digite um número: \"))\n",
    "num3 = int(input(\"Digite um número: \"))\n",
    "if (num1 >= num2) and (num1 >= num3):\n",
    "  print (num1)\n",
    "  if (num2 >= num3):\n",
    "    print(num2)\n",
    "    print(num3)\n",
    "  else:\n",
    "    print(num3)\n",
    "    print(num2)\n",
    "elif (num2 >= num1) and (num2 >= num3):\n",
    "  print (num2)\n",
    "  if (num1 >= num3):\n",
    "    print(num1)\n",
    "    print(num3)\n",
    "  else:\n",
    "    print(num3)\n",
    "    print(num1)\n",
    "else:\n",
    "  print (num3)\n",
    "  if (num1 >= num2):\n",
    "    print(num1)\n",
    "    print(num2)\n",
    "  else:\n",
    "    print(num2)\n",
    "    print(num1)\n"
   ]
  },
  {
   "cell_type": "code",
   "execution_count": 2,
   "id": "ad3adf98-4d9d-4951-92b4-a41d1b4bc900",
   "metadata": {},
   "outputs": [
    {
     "name": "stdin",
     "output_type": "stream",
     "text": [
      "Digite o número 1:  25\n",
      "Digite o número 2:  60\n",
      "Digite o número 3:  12\n"
     ]
    },
    {
     "name": "stdout",
     "output_type": "stream",
     "text": [
      "Números em ordem descrescente: \n",
      "60\n",
      "25\n",
      "12\n"
     ]
    }
   ],
   "source": [
    "#Exercicio 6\n",
    "num1 = int(input(\"Digite o número 1: \"))\n",
    "num2 = int(input(\"Digite o número 2: \"))\n",
    "num3 = int(input(\"Digite o número 3: \"))\n",
    "numeros = [num1, num2, num3]\n",
    "numeros.sort(reverse=True)\n",
    "print(\"Números em ordem descrescente: \")\n",
    "for num in numeros:\n",
    "    print(num)"
   ]
  },
  {
   "cell_type": "code",
   "execution_count": 9,
   "id": "Fs4R6dmRquIE",
   "metadata": {
    "id": "Fs4R6dmRquIE"
   },
   "outputs": [
    {
     "name": "stdin",
     "output_type": "stream",
     "text": [
      "Digite qual sigla corresporde seu turno M-matutino, V-vespertino ou N-noturno:  N\n"
     ]
    },
    {
     "name": "stdout",
     "output_type": "stream",
     "text": [
      "Boa noite!\n"
     ]
    }
   ],
   "source": [
    "#Exercicio 7\n",
    "turno = input(\"Digite qual sigla corresporde seu turno M-matutino, V-vespertino ou N-noturno: \").upper()\n",
    "if turno == \"M\":\n",
    "  print(\"Bom dia!\")\n",
    "elif turno == \"V\":\n",
    "  print(\"Boa tarde!\")\n",
    "elif turno == \"N\":\n",
    "  print(\"Boa noite!\")\n",
    "else:\n",
    "  print(\"Valor inválido!\")\n"
   ]
  },
  {
   "cell_type": "code",
   "execution_count": 25,
   "id": "d5e66f48-cf0b-4e91-bd0b-bb2476707ca7",
   "metadata": {},
   "outputs": [
    {
     "name": "stdin",
     "output_type": "stream",
     "text": [
      "Informe o salário atual do funcionário: R$ 1500\n"
     ]
    },
    {
     "name": "stdout",
     "output_type": "stream",
     "text": [
      "O salário antes era de R$1500.00. \n",
      "O percentual aplicado foi de 10%. \n",
      "O valor do aumento foi de R$150.00. \n",
      "O novo salário do funcionário é de R$1650.00!.\n"
     ]
    }
   ],
   "source": [
    "#Exercicio 8\n",
    "salario_atual = float(input(\"Informe o salário atual do funcionário: R$\"))\n",
    "if salario_atual <= 280:\n",
    "    porcentagem = 0.20\n",
    "elif salario_atual <= 700:\n",
    "    porcentagem = 0.15\n",
    "elif salario_atual <= 1500:\n",
    "    porcentagem = 0.10\n",
    "elif salario_atual >= 1500:\n",
    "    porcentagem = 0.05\n",
    "valor_aumento = salario_atual * porcentagem\n",
    "novo_salario = salario_atual + valor_aumento\n",
    "print(f\"O salário antes era de R${salario_atual:.2f}. \\nO percentual aplicado foi de {porcentagem*100:.0f}%. \\nO valor do aumento foi de R${valor_aumento:.2f}. \\nO novo salário do funcionário é de R${novo_salario:.2f}!.\")"
   ]
  },
  {
   "cell_type": "code",
   "execution_count": 30,
   "id": "f41d10c5-c208-430f-acb7-79af28f5cb00",
   "metadata": {},
   "outputs": [
    {
     "name": "stdin",
     "output_type": "stream",
     "text": [
      "Valor da hora:  30\n",
      "Horas trabalhadas no mês:  120\n"
     ]
    },
    {
     "name": "stdout",
     "output_type": "stream",
     "text": [
      "\n",
      "Salário Bruto: (30.0*120.0): R$3600.00\n",
      "(-) IR (20%)                     : R$ 720.00\n",
      "(-) INSS (10%)                  : R$ 360.00\n",
      "FGTS (11%)                      : R$ 396.00\n",
      "Total de descontos              : R$ 1080.00\n",
      "Salário Líquido                 : R$ 2520.00\n"
     ]
    }
   ],
   "source": [
    "#Exercicio 9\n",
    "valor_hora = float(input(\"Valor da hora: \"))\n",
    "horas = float(input(\"Horas trabalhadas no mês: \"))\n",
    "\n",
    "salario_bruto = valor_hora * horas\n",
    "\n",
    "if salario_bruto <= 900:\n",
    "    ir = 0\n",
    "    percentual_ir = 'Isento'\n",
    "elif salario_bruto <= 1500:\n",
    "    ir = salario_bruto * 0.05\n",
    "    percentual_ir = '5%'\n",
    "elif salario_bruto <= 2500:\n",
    "    ir = salario_bruto * 0.10\n",
    "    percentual_ir = '10%'\n",
    "else:\n",
    "    ir = salario_bruto * 0.20\n",
    "    percentual_ir = '20%'\n",
    "\n",
    "inss = salario_bruto * 0.10\n",
    "fgts = salario_bruto * 0.11\n",
    "total_descontos = ir + inss\n",
    "salario_liquido = salario_bruto - total_descontos\n",
    "\n",
    "print(f\"\\nSalário Bruto: ({valor_hora}*{horas}): R${salario_bruto:.2f}\")\n",
    "print(f\"(-) IR ({percentual_ir}){' ' * (24 - len(percentual_ir))}: R$ {ir:.2f}\")\n",
    "print(f\"(-) INSS (10%)                  : R$ {inss:.2f}\")\n",
    "print(f\"FGTS (11%)                      : R$ {fgts:.2f}\")\n",
    "print(f\"Total de descontos              : R$ {total_descontos:.2f}\")\n",
    "print(f\"Salário Líquido                 : R$ {salario_liquido:.2f}\")\n"
   ]
  },
  {
   "cell_type": "code",
   "execution_count": 10,
   "id": "W3tps8tGCdvS",
   "metadata": {
    "id": "W3tps8tGCdvS"
   },
   "outputs": [
    {
     "name": "stdin",
     "output_type": "stream",
     "text": [
      "Digite a primeira nota:  2.8\n",
      "Digite a segunda nota:  6.6\n"
     ]
    },
    {
     "name": "stdout",
     "output_type": "stream",
     "text": [
      "Conceito D\n",
      "Você precisa estudar mais\n"
     ]
    }
   ],
   "source": [
    "#Exercicio 10.\n",
    "nota1 = float(input(\"Digite a primeira nota: \"))\n",
    "nota2 = float(input(\"Digite a segunda nota: \"))\n",
    "media = (nota1 + nota2) / 2\n",
    "if media >= 9:\n",
    "  print(\"Conceito A\")\n",
    "  print(\"PARABÉNS!!!\")\n",
    "elif media >= 7.5:\n",
    "  print(\"Conceito B\")\n",
    "  print(\"Muito bem\")\n",
    "elif media >= 6:\n",
    "  print(\"Conceito C\")\n",
    "  print(\"Você precisa estudar mais\")\n",
    "elif media >= 4:\n",
    "  print(\"Conceito D\")\n",
    "  print(\"Você precisa estudar mais\")\n",
    "else:\n",
    "  print(\"Conceito E\")\n",
    "  print(\"Você precisa estudar muito!\")\n"
   ]
  },
  {
   "cell_type": "code",
   "execution_count": null,
   "id": "cudI5HjrTgYj",
   "metadata": {
    "id": "cudI5HjrTgYj"
   },
   "outputs": [],
   "source": [
    "#eu sei :("
   ]
  }
 ],
 "metadata": {
  "colab": {
   "provenance": []
  },
  "kernelspec": {
   "display_name": "Python 3 (ipykernel)",
   "language": "python",
   "name": "python3"
  },
  "language_info": {
   "codemirror_mode": {
    "name": "ipython",
    "version": 3
   },
   "file_extension": ".py",
   "mimetype": "text/x-python",
   "name": "python",
   "nbconvert_exporter": "python",
   "pygments_lexer": "ipython3",
   "version": "3.12.7"
  }
 },
 "nbformat": 4,
 "nbformat_minor": 5
}
