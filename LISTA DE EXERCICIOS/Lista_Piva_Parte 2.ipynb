{
 "cells": [
  {
   "cell_type": "code",
   "execution_count": 3,
   "id": "1a1e1585-720e-4f0d-9fcb-c9fa341512a9",
   "metadata": {},
   "outputs": [
    {
     "name": "stdin",
     "output_type": "stream",
     "text": [
      "Digite uma nota entre 0 e 10:  11\n"
     ]
    },
    {
     "name": "stdout",
     "output_type": "stream",
     "text": [
      "Nota inválida\n"
     ]
    },
    {
     "name": "stdin",
     "output_type": "stream",
     "text": [
      "Digite uma nota entre 0 e 10:  10\n"
     ]
    },
    {
     "name": "stdout",
     "output_type": "stream",
     "text": [
      "Nota válida\n"
     ]
    }
   ],
   "source": [
    "#Exercicio 1 \n",
    "nota = float(input(\"Digite uma nota entre 0 e 10: \"))\n",
    "while (nota < 0) or (nota > 10):\n",
    "  print(\"Nota inválida\")\n",
    "  nota = float(input(\"Digite uma nota entre 0 e 10: \"))\n",
    "  if (nota >= 0) and (nota <= 10):\n",
    "    print(\"Nota válida\")"
   ]
  },
  {
   "cell_type": "code",
   "execution_count": 4,
   "id": "1c4c8d25-1f50-4fbb-a554-eafbf7343cc7",
   "metadata": {},
   "outputs": [
    {
     "name": "stdin",
     "output_type": "stream",
     "text": [
      "Digite um seu nome de usuário:  Polyanna\n",
      "Digite uma senha:  Bangtan13!\n"
     ]
    },
    {
     "name": "stdout",
     "output_type": "stream",
     "text": [
      "Bem vindo de volta!\n"
     ]
    }
   ],
   "source": [
    "#Exercicio 2\n",
    "usuario = input(\"Digite um seu nome de usuário: \").upper()\n",
    "senha = input(\"Digite uma senha: \").upper()\n",
    "if senha == usuario:\n",
    "  print(\"Erro!! a senha não pode ser igual ao nome de usuário\")\n",
    "else:\n",
    "  print(\"Bem vindo de volta!\")"
   ]
  },
  {
   "cell_type": "code",
   "execution_count": 6,
   "id": "c95d800a-08be-45ba-bed6-d0168fa9dca3",
   "metadata": {},
   "outputs": [
    {
     "name": "stdin",
     "output_type": "stream",
     "text": [
      "Digite o seu nome:  po\n"
     ]
    },
    {
     "name": "stdout",
     "output_type": "stream",
     "text": [
      "Nome inválido! Por favor, digite um nome válido.\n"
     ]
    },
    {
     "name": "stdin",
     "output_type": "stream",
     "text": [
      "Digite o seu nome:  Polyanna\n"
     ]
    },
    {
     "name": "stdout",
     "output_type": "stream",
     "text": [
      "Nome válido!\n"
     ]
    }
   ],
   "source": [
    "#Exercio 3\n",
    "nome = input(\"Digite o seu nome: \")\n",
    "while len(nome) <= 3:\n",
    "    print(\"Nome inválido! Por favor, digite um nome válido.\")\n",
    "    nome = input(\"Digite o seu nome: \")\n",
    "print(\"Nome válido!\")"
   ]
  },
  {
   "cell_type": "code",
   "execution_count": 7,
   "id": "ba772248-2e43-42f9-b674-667ff92a8f26",
   "metadata": {},
   "outputs": [
    {
     "name": "stdout",
     "output_type": "stream",
     "text": [
      "Serão necessários 63 anos para que a população do país A últrapasse ou iguale a população do país B.\n"
     ]
    }
   ],
   "source": [
    "#Exercicio 4\n",
    "paisA = 80000\n",
    "crescimentoA = 0.03\n",
    "paisB = 200000\n",
    "crescimentoB = 0.015\n",
    "anos = 0\n",
    "while paisA < paisB:\n",
    "    paisA = paisA + (paisA * crescimentoA)\n",
    "    paisB = paisB + (paisB * crescimentoB)\n",
    "    anos += 1\n",
    "print(f\"Serão necessários {anos} anos para que a população do país A últrapasse ou iguale a população do país B.\")"
   ]
  },
  {
   "cell_type": "code",
   "execution_count": 8,
   "id": "bef0aa09-b031-457d-a6b9-a5c249c2e8a1",
   "metadata": {},
   "outputs": [
    {
     "name": "stdin",
     "output_type": "stream",
     "text": [
      "Digite o 1º número:  1\n",
      "Digite o 2º número:  2\n",
      "Digite o 3º número:  3\n",
      "Digite o 4º número:  4\n",
      "Digite o 5º número:  5\n"
     ]
    },
    {
     "name": "stdout",
     "output_type": "stream",
     "text": [
      "A soma dos números é 15\n",
      "A média dos números é 3.0\n"
     ]
    }
   ],
   "source": [
    "#Exercicio 5\n",
    "soma = 0\n",
    "for i in range(5):\n",
    "    num = int(input(f\"Digite o {i+1}º número: \"))\n",
    "    soma += num\n",
    "media = soma / 5\n",
    "print(f\"A soma dos números é {soma}\")\n",
    "print(f\"A média dos números é {media}\")"
   ]
  },
  {
   "cell_type": "code",
   "execution_count": 10,
   "id": "4c02d287-c029-45f3-b423-78bef4602cf3",
   "metadata": {},
   "outputs": [
    {
     "name": "stdin",
     "output_type": "stream",
     "text": [
      "Digite um número para ver a tabuada (1 a 10):  9\n"
     ]
    },
    {
     "name": "stdout",
     "output_type": "stream",
     "text": [
      "Tabuada de 9:\n",
      "9 x 1 = 9\n",
      "9 x 2 = 18\n",
      "9 x 3 = 27\n",
      "9 x 4 = 36\n",
      "9 x 5 = 45\n",
      "9 x 6 = 54\n",
      "9 x 7 = 63\n",
      "9 x 8 = 72\n",
      "9 x 9 = 81\n",
      "9 x 10 = 90\n"
     ]
    }
   ],
   "source": [
    "#Exercicio 6\n",
    "num = int(input(\"Digite um número para ver a tabuada (1 a 10): \"))\n",
    "if 1 <= num <= 10:\n",
    "    print(f\"Tabuada de {num}:\")\n",
    "    for i in range(1, 11):\n",
    "        print(f\"{num} x {i} = {num * i}\")\n",
    "else:\n",
    "    print(\"Número inválido! Por favor, digite um número entre 1 e 10.\")"
   ]
  },
  {
   "cell_type": "code",
   "execution_count": 11,
   "id": "59914342-f1a2-40cc-b7b5-e1552fe591d1",
   "metadata": {},
   "outputs": [
    {
     "name": "stdin",
     "output_type": "stream",
     "text": [
      "Digite um número:  10\n"
     ]
    },
    {
     "name": "stdout",
     "output_type": "stream",
     "text": [
      "0\n",
      "1\n",
      "1\n",
      "2\n",
      "3\n",
      "5\n",
      "8\n",
      "13\n",
      "21\n",
      "34\n"
     ]
    }
   ],
   "source": [
    "#Exercicio 7\n",
    "def fibonacci(n):\n",
    "    if n == 0:\n",
    "        return 0\n",
    "    elif n == 1:\n",
    "        return 1\n",
    "    else:\n",
    "        return fibonacci(n-1) + fibonacci(n-2)\n",
    "n = int(input(\"Digite um número: \"))\n",
    "for i in range(n):\n",
    "    print(fibonacci(i))"
   ]
  },
  {
   "cell_type": "code",
   "execution_count": 12,
   "id": "3c7f42b7-d324-41bc-99d7-c830fc1c156e",
   "metadata": {},
   "outputs": [
    {
     "name": "stdin",
     "output_type": "stream",
     "text": [
      "Digite a quantidade de notas:  10\n",
      "Digite a nota:  10\n",
      "Digite a nota:  10\n",
      "Digite a nota:  10\n",
      "Digite a nota:  10\n",
      "Digite a nota:  10\n",
      "Digite a nota:  10\n",
      "Digite a nota:  10\n",
      "Digite a nota:  10\n",
      "Digite a nota:  10\n",
      "Digite a nota:  10\n"
     ]
    },
    {
     "name": "stdout",
     "output_type": "stream",
     "text": [
      "A média das notas é: 10.0\n"
     ]
    }
   ],
   "source": [
    "#Exercicio 8\n",
    "n = int(input(\"Digite a quantidade de notas: \"))\n",
    "soma = 0\n",
    "for i in range(n):\n",
    "    nota = float(input(\"Digite a nota: \"))\n",
    "    soma += nota\n",
    "media = soma / n\n",
    "print(f\"A média das notas é: {media}\")"
   ]
  },
  {
   "cell_type": "code",
   "execution_count": 13,
   "id": "e072df7d-282b-448f-8ba9-095b1668b7e9",
   "metadata": {},
   "outputs": [
    {
     "name": "stdout",
     "output_type": "stream",
     "text": [
      "Lojas Quase Dois - Tabela de preços\n",
      "1 - R$ 1.99\n",
      "2 - R$ 3.98\n",
      "3 - R$ 5.97\n",
      "4 - R$ 7.96\n",
      "5 - R$ 9.95\n",
      "6 - R$ 11.94\n",
      "7 - R$ 13.93\n",
      "8 - R$ 15.92\n",
      "9 - R$ 17.91\n",
      "10 - R$ 19.90\n",
      "11 - R$ 21.89\n",
      "12 - R$ 23.88\n",
      "13 - R$ 25.87\n",
      "14 - R$ 27.86\n",
      "15 - R$ 29.85\n",
      "16 - R$ 31.84\n",
      "17 - R$ 33.83\n",
      "18 - R$ 35.82\n",
      "19 - R$ 37.81\n",
      "20 - R$ 39.80\n",
      "21 - R$ 41.79\n",
      "22 - R$ 43.78\n",
      "23 - R$ 45.77\n",
      "24 - R$ 47.76\n",
      "25 - R$ 49.75\n",
      "26 - R$ 51.74\n",
      "27 - R$ 53.73\n",
      "28 - R$ 55.72\n",
      "29 - R$ 57.71\n",
      "30 - R$ 59.70\n",
      "31 - R$ 61.69\n",
      "32 - R$ 63.68\n",
      "33 - R$ 65.67\n",
      "34 - R$ 67.66\n",
      "35 - R$ 69.65\n",
      "36 - R$ 71.64\n",
      "37 - R$ 73.63\n",
      "38 - R$ 75.62\n",
      "39 - R$ 77.61\n",
      "40 - R$ 79.60\n",
      "41 - R$ 81.59\n",
      "42 - R$ 83.58\n",
      "43 - R$ 85.57\n",
      "44 - R$ 87.56\n",
      "45 - R$ 89.55\n",
      "46 - R$ 91.54\n",
      "47 - R$ 93.53\n",
      "48 - R$ 95.52\n",
      "49 - R$ 97.51\n",
      "50 - R$ 99.50\n"
     ]
    }
   ],
   "source": [
    "#Exercicio 9\n",
    "print(\"Lojas Quase Dois - Tabela de preços\")\n",
    "for quantidade in range(1, 51):\n",
    "    preco = quantidade * 1.99\n",
    "    print(f\"{quantidade} - R$ {preco:.2f}\")"
   ]
  },
  {
   "cell_type": "code",
   "execution_count": 15,
   "id": "a942579e-e657-4482-9b93-6e40b17ee286",
   "metadata": {},
   "outputs": [
    {
     "name": "stdin",
     "output_type": "stream",
     "text": [
      " 35\n",
      " 30\n",
      " 45\n",
      " 40\n",
      " fim\n"
     ]
    },
    {
     "name": "stdout",
     "output_type": "stream",
     "text": [
      "Menor temperatura: 30.0\n",
      "Maior temperatura: 45.0\n",
      "Média das temperaturas: 37.5\n"
     ]
    }
   ],
   "source": [
    "#Exercicio 9\n",
    "t = []\n",
    "t = []\n",
    "x = input()\n",
    "while x != 'fim':\n",
    "    t.append(float(x))\n",
    "    x = input()\n",
    "\n",
    "print(f\"Menor temperatura: {min(t):.1f}\")\n",
    "print(f\"Maior temperatura: {max(t):.1f}\")\n",
    "print(f\"Média das temperaturas: {sum(t)/len(t):.1f}\")"
   ]
  }
 ],
 "metadata": {
  "kernelspec": {
   "display_name": "Python 3 (ipykernel)",
   "language": "python",
   "name": "python3"
  },
  "language_info": {
   "codemirror_mode": {
    "name": "ipython",
    "version": 3
   },
   "file_extension": ".py",
   "mimetype": "text/x-python",
   "name": "python",
   "nbconvert_exporter": "python",
   "pygments_lexer": "ipython3",
   "version": "3.12.7"
  }
 },
 "nbformat": 4,
 "nbformat_minor": 5
}
